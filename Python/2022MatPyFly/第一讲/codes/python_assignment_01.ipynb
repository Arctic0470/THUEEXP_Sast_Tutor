{
 "cells": [
  {
   "cell_type": "markdown",
   "metadata": {},
   "source": [
    "#### Assignment 1 [两数和](https://leetcode-cn.com/problems/two-sum/)\n",
    "\n",
    "[提示:使用dict实现O(1)时间复杂度]\n",
    "\n",
    "[可以将leetcode上的样例测试通过截图上传,也可以直接提交代码]"
   ]
  },
  {
   "cell_type": "code",
   "execution_count": null,
   "metadata": {},
   "outputs": [],
   "source": [
    "#Assignment 1\n",
    "#Add your code here"
   ]
  },
  {
   "cell_type": "markdown",
   "metadata": {},
   "source": [
    "#### Assignment 2 [字符串压缩](https://leetcode-cn.com/problems/compress-string-lcci/)\n",
    "[可以将leetcode上的样例测试通过截图上传,也可以直接提交代码]"
   ]
  },
  {
   "cell_type": "code",
   "execution_count": null,
   "metadata": {},
   "outputs": [],
   "source": [
    "#Assignment 2\n",
    "#Add your code here "
   ]
  },
  {
   "cell_type": "markdown",
   "metadata": {},
   "source": [
    "#### Assignment 3 文件读写\n",
    "\n",
    "读取附件中的dec.txt文件,读取文件各行**十进制数据**'(x,y)',并转化为**8位二进制补码**,输出到bin.txt文件中。\n",
    "\n",
    "例:\n",
    "____________________\n",
    "输入文件格式:\n",
    "\n",
    "(1,2)\n",
    "\n",
    "...\n",
    "\n",
    "(-3,4)\n",
    "____________________\n",
    "输出文件格式:\n",
    "\n",
    "(00000001,00000010)\n",
    "\n",
    "...\n",
    "\n",
    "(111111101,00000100)\n",
    "____________________\n",
    "[提示:可以调用内置函数bin()]"
   ]
  },
  {
   "cell_type": "code",
   "execution_count": null,
   "metadata": {},
   "outputs": [],
   "source": [
    "#Assignment 3\n",
    "#Add your code here"
   ]
  }
 ],
 "metadata": {
  "language_info": {
   "name": "python"
  },
  "orig_nbformat": 4
 },
 "nbformat": 4,
 "nbformat_minor": 2
}
