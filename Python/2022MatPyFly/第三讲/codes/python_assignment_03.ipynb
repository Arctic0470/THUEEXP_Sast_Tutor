{
 "cells": [
  {
   "cell_type": "markdown",
   "metadata": {},
   "source": [
    "1.请生成以下(3,4)数组：\n",
    "- 数组A：所有元素相互独立，均为[-1,1)上的均匀分布(提示：可用numpy.random中的函数)\n",
    "- 数组B：元素是[0,24)内的所有偶数"
   ]
  },
  {
   "cell_type": "code",
   "execution_count": null,
   "metadata": {},
   "outputs": [],
   "source": [
    "import numpy as np\n",
    "# A = ...\n",
    "\n",
    "# B = ...\n",
    "\n",
    "#print(A)\n",
    "#print(B)"
   ]
  },
  {
   "cell_type": "markdown",
   "metadata": {},
   "source": [
    "2.设a = randn(3, 1, 3) + randn(4, 3).astype(np.float32) ，其中randn是np.random.randn()的简称，请输出a的shape和data type，并思考广播机制是如何起作用的"
   ]
  },
  {
   "cell_type": "code",
   "execution_count": null,
   "metadata": {},
   "outputs": [],
   "source": [
    "import numpy as np\n",
    "# a = ...\n",
    "# print(a)\n",
    "# ...\n",
    "\n",
    "# 简述广播机制的过程\n"
   ]
  },
  {
   "cell_type": "markdown",
   "metadata": {},
   "source": [
    "3.如何统计任意数组中非零元素的数目？"
   ]
  },
  {
   "cell_type": "code",
   "execution_count": null,
   "metadata": {},
   "outputs": [],
   "source": [
    "import numpy as np\n",
    "# 请以数组Q为例\n",
    "Q = np.random.randint(-2,2,(4,4))\n",
    "print(Q)\n",
    "# 输出Q中非零元素的数目：\n",
    "# "
   ]
  },
  {
   "cell_type": "markdown",
   "metadata": {},
   "source": [
    "4.设有两个(N*D)的矩阵A和B，求矩阵C，使得$ C_{i,j} = \\frac{1}{D}\\sum_{k=0}^{D-1} (A_{ik}-B_{jk})^2 $"
   ]
  },
  {
   "cell_type": "code",
   "execution_count": null,
   "metadata": {},
   "outputs": [],
   "source": [
    "import numpy as np\n",
    "N = int(input(\"请输入矩阵A、B的行数N：\"))\n",
    "D = int(input(\"请输入矩阵A、B的列数D：\"))\n",
    "A = np.random.randint(0,10,(N, D))\n",
    "B = np.random.randint(0,10,(N, D))\n",
    "print(A)\n",
    "print(B)\n",
    "# C = ...\n",
    "#...\n",
    "# print(C)"
   ]
  },
  {
   "cell_type": "markdown",
   "metadata": {},
   "source": [
    "5.设有两个三维数组$Q_1$和$Q_2$，形状是(N,S,A)。给定两个长度为N的向量$s_1$和$s_2$，其元素均为[0,S)的整数。求向量$Q_f$，使得$Q_F[i]=Q_2[i,s_2[i],\\mathop{\\arg\\max}\\limits_{a} (Q_1[i,s_1[i],a])]$ $,for$  $i \\in[0,N)$。显然可以有多种方法解决这个问题，请大家分别用“numpy+for循环”、“只用numpy”解决，并比较在数据量很大（例如S和A取4，N ≥ 10e6量级）的情况下两种方法的耗时差别"
   ]
  },
  {
   "cell_type": "code",
   "execution_count": null,
   "metadata": {},
   "outputs": [],
   "source": [
    "import time\n",
    "import numpy as np\n",
    "S = int(input(\"请输入矩阵Q1、Q2的行数S：\"))\n",
    "A = int(input(\"请输入矩阵Q1、Q2的列数A:\"))\n",
    "N = int(input(\"请输入N:\"))\n",
    "Q1 = np.random.randint(0,10,(N, S, A))\n",
    "Q2 = np.random.randint(0,10,(N, S, A))\n",
    "s1 = np.random.randint(0,S,(N))\n",
    "s2 = np.random.randint(0,S,(N))\n",
    "print(Q1)\n",
    "print(Q2)\n",
    "print(s1)\n",
    "print(s2)\n",
    "\n",
    "# 用numpy + for循环处理\n",
    "start_time1 = time.time()\n",
    "# Qf1 = ...\n",
    "# ...\n",
    "\n",
    "print('Time used in scenario 1:', time.time() - start_time1)\n",
    "\n",
    "# 只用numpy处理\n",
    "start_time2 = time.time()\n",
    "# Qf2 = ...\n",
    "# ...\n",
    "\n",
    "print('Time used in scenario 2:', time.time() - start_time2)\n",
    "\n",
    "# 比较两种情况下的计算结果\n",
    "#print(abs((Qf2-Qf1)).sum())  "
   ]
  },
  {
   "cell_type": "markdown",
   "metadata": {},
   "source": [
    "（选做）6.本题旨在将逻辑回归算法用于手写数字识别问题，只需要大家正确完成其中和Numpy操作有关的内容，其它部分不做要求（包括识别错误率等）。请大家阅读LogisticRegression.py和./Common/DataLoader.py，补全其中TODO部分的代码，共7处（3 + 4）。代码在2021年夏季学期 Python 程序设计大作业示例代码的基础上做了微调以方便大家完成。问题描述可见文件“2021年夏季学期Python程序设计大作业指引.pdf”的前3页，重点关注图片形状（28*28 = 784）、像素值0-255、数据集划分方式。感兴趣的同学还可以学习[逻辑回归](https://cloud.tencent.com/developer/article/1694338)，但完成本题并不需要掌握算法实现的细节。"
   ]
  }
 ],
 "metadata": {
  "interpreter": {
   "hash": "07efdcd4b820c98a756949507a4d29d7862823915ec7477944641bea022f4f62"
  },
  "kernelspec": {
   "display_name": "Python 3.8.8 ('base')",
   "language": "python",
   "name": "python3"
  },
  "language_info": {
   "codemirror_mode": {
    "name": "ipython",
    "version": 3
   },
   "file_extension": ".py",
   "mimetype": "text/x-python",
   "name": "python",
   "nbconvert_exporter": "python",
   "pygments_lexer": "ipython3",
   "version": "3.8.8"
  },
  "orig_nbformat": 4
 },
 "nbformat": 4,
 "nbformat_minor": 2
}
