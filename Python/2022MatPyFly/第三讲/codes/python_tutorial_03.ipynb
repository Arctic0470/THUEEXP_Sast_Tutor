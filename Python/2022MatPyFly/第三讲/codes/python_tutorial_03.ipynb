{
 "cells": [
  {
   "cell_type": "markdown",
   "metadata": {},
   "source": [
    "### 一 总\n",
    "在前两次的python教程中，相信大家已经掌握了python基本语法、类和函数的相关知识，本周我们将重点关注：\n",
    "- python模块的安装方法\n",
    "- numpy基础\n",
    "- numpy运算"
   ]
  },
  {
   "cell_type": "markdown",
   "metadata": {},
   "source": [
    "### 二 python模块的安装方法  \n",
    "这部分内容在python安装教程中有详细的说明：“三、包（package） 、环境（environment） 管理”。鉴于conda 具有环境管理的优势，我们一般采用 conda进行包管理。但某些包可能 conda 上没有，这时需要用pip 安装。在进行下面的内容之前，请确保在终端执行`conda list`命令后，显示Numpy、scipy、Pillow已经安装。Numpy在下载Anaconda时应该已经捆绑安装，同时考虑到这三个包很常用，所以可以不新建虚拟环境而直接安装。"
   ]
  },
  {
   "cell_type": "markdown",
   "metadata": {},
   "source": [
    "### 三 Numpy基础\n",
    "目录：  \n",
    "1. Numpy介绍\n",
    "2. 数组创建\n",
    "3. 数组操作\n",
    "4. 数组索引和切片\n",
    "5. 广播和广播机制"
   ]
  },
  {
   "cell_type": "markdown",
   "metadata": {},
   "source": [
    "#### 1. Numpy介绍\n",
    "NumPy(Numerical Python) 是 Python 语言的一个扩展程序库，支持大量的维度数组与矩阵运算，此外也针对数组运算提供大量的数学函数库。NumPy包的核心是其N维数组对象 **ndarray**，它是一系列 **同类型** 数据的集合，元素索引从 **0** 开始。为了保证其性能优良，其中有许多操作都是代码在本地进行编译后执行的。NumPy数组 和 原生Python Array（数组）之间有几个重要的区别：\n",
    "- NumPy 数组在创建时具有固定大小，与Python原生数组对象（可以动态增长）不同。更改ndarray的大小将创建一个新数组并删除原来的数组。\n",
    "- NumPy 数组有助于对大量数据进行高级数学和其他类型的操作。通常，这些操作的执行效率更高，比使用Python原生数组的代码更少。\n",
    "- 越来越多的基于Python的科学和数学软件包使用NumPy数组; 虽然这些工具通常都支持Python的原生数组作为参数，但它们在处理之前会还是会将输入的数组转换为NumPy的数组，而且也通常输出为NumPy数组。"
   ]
  },
  {
   "cell_type": "markdown",
   "metadata": {},
   "source": [
    "`ndarray`对象的重要属性包括：\n",
    "- `ndarray.ndim`：数组轴（维度）的个数，也称为rank。\n",
    "- `ndarray.shape`：一个整数元组，表示每个维度内元素的数目。对于n行m列的矩阵，shape 将是 (n,m)。shape元组的长度就是维度数ndim。\n",
    "- `ndarray.size`：数组元素的总数。这等于 shape 的元素的乘积。\n",
    "- `ndarray.dtype`：一个描述数组中元素类型的对象。可以使用标准的Python类型创建或指定dtype，也可以用NumPy提供的其它类型，例如numpy.int32、numpy.int16和numpy.float64，NumPy中的默认数据类型是np.float64（详见[Numpy数据类型](https://www.numpy.org.cn/user/basics/types.html#%E6%95%B0%E6%8D%AE%E7%B1%BB%E5%9E%8B)）"
   ]
  },
  {
   "cell_type": "code",
   "execution_count": null,
   "metadata": {},
   "outputs": [],
   "source": [
    "import numpy as np\n",
    "a = np.array([[1,2,3],[4,5,6]], dtype = np.float32)\n",
    "print(a)\n",
    "print(a.ndim)   # 二维\n",
    "print(a.shape)  # 2行3列\n",
    "print(a.size)   # 共有6个数\n",
    "print(a.dtype)  # 创建时声明数据类型是np.float32\n",
    "print((a.astype(np.float_)).dtype)  \n",
    "print(np.complex64(a).dtype)    # 改变数据类型用用 .astype() 方法或类型本身函数\n",
    "type(a)"
   ]
  },
  {
   "cell_type": "markdown",
   "metadata": {},
   "source": [
    "#### 2. 数组创建"
   ]
  },
  {
   "cell_type": "code",
   "execution_count": null,
   "metadata": {},
   "outputs": [],
   "source": [
    "import numpy as np\n",
    "'''方法一：将Python array_like对象（列表、元组）作为array()形参,数据类型可指定'''\n",
    "a = np.array([1,2,3])\n",
    "print(a, type(a), a.dtype)\n",
    "b = np.array([[1,2,3],[4,5,6]], dtype = float)  # 同时声明数据类型\n",
    "print(b, type(b), b.dtype)\n",
    "# 常见错误： 调用array时传入多个数字参数而非array_like对象，a = np.array(1,2,3,4)    # WRONG"
   ]
  },
  {
   "cell_type": "code",
   "execution_count": null,
   "metadata": {},
   "outputs": [],
   "source": [
    "import numpy as np\n",
    "'''方法二：numpy原生数组的创建（例如，arange、ones、zeros等），默认是float64'''\n",
    "# numpy.empty 用来创建一个指定形状（shape）、数据类型（dtype）且未初始化的数组：\n",
    "x = np.empty((3,2), dtype = int)    # 创建一个3行2列的数组\n",
    "print (x)\n",
    "# numpy.zeros 创建指定大小的全零数组：\n",
    "print(np.zeros((2,3)))\n",
    "# numpy.ones 创建指定大小的全1数组：\n",
    "print(np.ones((2,3)))\n",
    "# numpy.eye 创建数组，对角线是1，其余地方是0\n",
    "print(np.eye(2,3))\n",
    "# numpy.diag 创建对角数组\n",
    "print(np.diag([2,43,6]))"
   ]
  },
  {
   "cell_type": "code",
   "execution_count": null,
   "metadata": {},
   "outputs": [],
   "source": [
    "import numpy as np\n",
    "'''方法三：从数值范围创建数组'''\n",
    "# np.arange(start, stop, step, dtype) ,左闭右开，默认步长是1\n",
    "print(np.arange(5))  \n",
    "print(np.arange(0, 2, 0.3,dtype = complex))\n",
    "# np.linspace(start, stop, num=50, endpoint=True, retstep=False, dtype=None), 创建等差数列组\n",
    "print(np.linspace(1,2*np.pi,10))\n",
    "print(np.linspace(1,10,9,endpoint=False))   # 不包括末尾\n",
    "# np.logspace(start, stop, num=50, endpoint=True, base=10.0, dtype=None)，创建等比数列组\n",
    "print(np.logspace(0,9,10,base=2))"
   ]
  },
  {
   "cell_type": "markdown",
   "metadata": {},
   "source": [
    "#### 3. 数组操作"
   ]
  },
  {
   "cell_type": "markdown",
   "metadata": {},
   "source": [
    "修改数组形状"
   ]
  },
  {
   "cell_type": "code",
   "execution_count": null,
   "metadata": {},
   "outputs": [],
   "source": [
    "import numpy as np\n",
    "a = np.floor(10*np.random.random((3,4)))    # 创建3*4的随机矩阵\n",
    "print(a)\n",
    "print(a.shape)\n",
    "# 以下三个函数不会修改原数据，并返回修改后的数据拷贝\n",
    "print(a.reshape(2,6))   # reshape：修改形状\n",
    "print(a.reshape(4,-1))  # -1表示reshape会自动计算其它维度的大小\n",
    "print(a.ravel())    # ravel: 展开数组(默认C风格，列变化快于行变化)\n",
    "print(a.ravel(order = 'F'))\n",
    "print(a.flatten())  # flatten：同ravel\n",
    "# resize()函数会修改原数据\n",
    "a.resize(6,2)\n",
    "print(a)"
   ]
  },
  {
   "cell_type": "markdown",
   "metadata": {},
   "source": [
    "数组转置"
   ]
  },
  {
   "cell_type": "code",
   "execution_count": null,
   "metadata": {},
   "outputs": [],
   "source": [
    "import numpy as np\n",
    "a = np.floor(10*np.random.random((3,4)))\n",
    "print(a)\n",
    "print(a.shape)\n",
    "print(a.transpose())\n",
    "print(a.T)"
   ]
  },
  {
   "cell_type": "markdown",
   "metadata": {},
   "source": [
    "数组连接"
   ]
  },
  {
   "cell_type": "code",
   "execution_count": null,
   "metadata": {},
   "outputs": [],
   "source": [
    "import numpy as np\n",
    "a = np.array([[1,2],[3,4]])\n",
    "b = np.array([[5,6],[7,8]])\n",
    "c = np.array([[9,10], [11,12]])\n",
    "# np.concatenate:沿<已有的轴>连接数组序列（默认沿列拼接）,不会产生新的维度\n",
    "print(np.concatenate((a,b,c)))\n",
    "print(np.concatenate((a,b,c), axis = 1))\n",
    "# np.stack：沿<新轴>连接数组序列，会产生新的维度\n",
    "print(np.stack((a,b,c)))\n",
    "print(np.stack((a,b,c),axis = 1))\n",
    "print(np.stack((a,b,c), axis=2))\n",
    "# np.hstack：沿水平方向堆叠数组序列\n",
    "print(np.hstack((a,b,c)))\n",
    "# np.vstack：沿竖直方向堆叠数组序列\n",
    "print(np.vstack((a,b,c)))"
   ]
  },
  {
   "cell_type": "markdown",
   "metadata": {},
   "source": [
    "数组拆分"
   ]
  },
  {
   "cell_type": "code",
   "execution_count": null,
   "metadata": {},
   "outputs": [],
   "source": [
    "import numpy as np\n",
    "a = np.arange(9)\n",
    "print(a)\n",
    "print(np.split(a,3))\n",
    "print(np.split(a, [4,7]))   # 在特定的位置分割\n",
    "print(a.reshape((3,3)))\n",
    "print(np.split(a.reshape((3,3)),3,axis = 1))\n",
    "print(np.hsplit(a,3))\n",
    "print(np.vsplit(a.reshape(3,3),3))"
   ]
  },
  {
   "cell_type": "markdown",
   "metadata": {},
   "source": [
    "数组拷贝  \n",
    "**副本** 是一个数据的完整的拷贝，如果我们对副本进行修改，它不会影响到原始数据，因为物理内存不在同一位置。**视图** 是数据的一个 **别称或引用**，通过该别称或引用亦可访问、操作原有数据，但原有数据不会产生拷贝，如果我们对视图进行修改，它会影响到原始数据，因为物理内存在同一位置。"
   ]
  },
  {
   "cell_type": "code",
   "execution_count": null,
   "metadata": {},
   "outputs": [],
   "source": [
    "import numpy as np \n",
    "# 别名不会复制\n",
    "a = np.arange(6)  \n",
    "print (a)\n",
    "print (id(a))\n",
    "b = a # b是a的别名，其实指向同一块内存，id相同\n",
    "print (b)\n",
    "print (id(b))\n",
    "b.shape =  3,2  \n",
    "print (b)\n",
    "print (a)   # 修改b的形状也会修改a的形状\n",
    "# 可变对象作为引用传递也不会复制\n",
    "def f(x):\n",
    "    print(id(x))\n",
    "print(id(a))\n",
    "f(a)    # a是可变对象，函数传参时传其引用，id相同\n",
    "# 视图或浅复制，切片也是对数组的视图\n",
    "c = a.view() # view函数创建一个查看相同数据的新数组对象，虽然id不同但共享数据\n",
    "print(id(a), id(c))\n",
    "c[0,1] = 99\n",
    "print(a)    # a的值也变了\n",
    "# 深复制创建真正的副本\n",
    "d = a.copy()\n",
    "print(id(d),id(a))\n",
    "d[0,1] = -99\n",
    "print(a)    # a的值不变，d是a的真拷贝"
   ]
  },
  {
   "cell_type": "markdown",
   "metadata": {},
   "source": [
    "#### 4. 数组索引切片和迭代"
   ]
  },
  {
   "cell_type": "markdown",
   "metadata": {},
   "source": [
    "ndarray对象的内容可以通过索引或切片来访问和修改，与 Python 中 list 的切片操作一样。索引区间基于 `0 - n` 的下标，左闭右开，`-x`表示从末尾往头数第x个："
   ]
  },
  {
   "cell_type": "code",
   "execution_count": null,
   "metadata": {},
   "outputs": [],
   "source": [
    "import numpy as np\n",
    "a = np.arange(10)**3\n",
    "print(a)\n",
    "print(a[2]) # 第3个数\n",
    "print(a[2:5])   # 第3个到第5个数\n",
    "print(a[2:-2])  # 第3个数到倒数第3个数\n",
    "print(a[slice(2,7,2)])  # 使用内置的slice函数先获得切片对象再进行索引（start,stop,step）\n",
    "print(a[2:7:2]) # 或者直接用冒号分割切片参数\n",
    "a[2:5] += 1 # 通过切片修改数组的值\n",
    "print(a)"
   ]
  },
  {
   "cell_type": "markdown",
   "metadata": {},
   "source": [
    "多维的数组每个轴可以有一个索引。这些索引以逗号​​分隔的元组给出，`:`表示完整切片。当提供的索引少于轴的数量时，缺失的索引被认为是完整的切片，或者也可以用省略号`...`占位"
   ]
  },
  {
   "cell_type": "code",
   "execution_count": null,
   "metadata": {},
   "outputs": [],
   "source": [
    "import numpy as np\n",
    "b = np.floor(10*np.random.random((4,4)))\n",
    "print(b)\n",
    "print(b[0:2,1])\n",
    "print(b[:,-1])\n",
    "print(b[-1])\n",
    "print(b[2:,...])"
   ]
  },
  {
   "cell_type": "markdown",
   "metadata": {},
   "source": [
    "与MATLAB类似，Numpy也支持高级索引，包括整数数组索引，布尔数组索引等"
   ]
  },
  {
   "cell_type": "code",
   "execution_count": null,
   "metadata": {},
   "outputs": [],
   "source": [
    "import numpy as np\n",
    "a = np.floor(10*np.random.random((4,4)))\n",
    "print(a)\n",
    "'''整数数组索引'''\n",
    "i = np.array([-1,0,2])\n",
    "j = np.array([0,1,2])\n",
    "print(a[i]) # 单个索引数组指的是多维数组的第一个维度\n",
    "print(a[i, j])    # 多维索引定位数据，每个维度的索引数组形状一致。获得[1,0],[0,1],[2,2]处的数据\n",
    "print(a[np.ix_(i,j)])   # 获得3*3的矩阵\n",
    "print(a[1:3,[1,2]]) # 切片和列表结合\n",
    "\n",
    "'''布尔数组索引'''\n",
    "# 通过布尔运算（如：比较运算符）来获取符合指定条件的元素的数组。\n",
    "print(a > 5)\n",
    "print(a[a >  5])    # 获得a中大于5的元素\n",
    "a[a > 5] = -1  # 利用布尔数组完成赋值\n",
    "print(a)\n",
    "b1 = np.array([False,True,True,False])   \n",
    "b2 = np.array([True,False,True,False])\n",
    "print(a[b1,b2])\n",
    "print(a[b1])"
   ]
  },
  {
   "cell_type": "markdown",
   "metadata": {},
   "source": [
    "与Python的列表、元组等序列相同，Numpy中的ndarray也是可迭代对象，均可以用for循环完成遍历：`for x in ...`:"
   ]
  },
  {
   "cell_type": "code",
   "execution_count": null,
   "metadata": {},
   "outputs": [],
   "source": [
    "import numpy as np\n",
    "from collections.abc import Iterable\n",
    "b = np.floor(10*np.random.random((4,4)))\n",
    "print(isinstance(b, Iterable))\n",
    "for row in b:   # 遍历b的每一行\n",
    "    print(row)\n",
    "for element in b.flat:  # 遍历b的每一个元素\n",
    "    print(element)"
   ]
  },
  {
   "cell_type": "markdown",
   "metadata": {},
   "source": [
    "#### 5. 广播和广播机制"
   ]
  },
  {
   "cell_type": "markdown",
   "metadata": {},
   "source": [
    "**广播(计算)** 是两 **形状形同** 的数组的 **对应位置** 上的元素做某种运算，例如："
   ]
  },
  {
   "cell_type": "code",
   "execution_count": null,
   "metadata": {},
   "outputs": [],
   "source": [
    "import numpy as np \n",
    "a = np.array([1,2,3,4]) \n",
    "b = np.array([10,20,30,40]) \n",
    "c = a * b \n",
    "print (c)   # c的结果 = a和b对应位相乘"
   ]
  },
  {
   "cell_type": "markdown",
   "metadata": {},
   "source": [
    "numpy 对 **不同形状(shape)** 的数组也可以进行数值计算的方式，这是因为Numpy使用了广播机制对数组进行了预处理（扩展），最终使参与运算的两个数组的形状一致，然后进行广播计算。注意 ***广播和广播机制*** 是两个概念。例如："
   ]
  },
  {
   "cell_type": "code",
   "execution_count": null,
   "metadata": {},
   "outputs": [],
   "source": [
    "import numpy as np\n",
    "a = np.arange(0,10)\n",
    "print(a)\n",
    "print (a.shape, a.ndim)\n",
    "a = a.reshape([2, 5])\n",
    "print (a)\n",
    "print (a.shape, a.ndim)\n",
    "print (2 * a)   # 显然数字2和数组a的形状（2，5）不相同，但可以得到正确的结果"
   ]
  },
  {
   "cell_type": "markdown",
   "metadata": {},
   "source": [
    "当然不是所有情况下两个数组都能进行广播机制处理，需要两数组满足 **广播兼容**，即两个数组能否通过广播机制处理成同形的数组然后广播。判断规则是：比较两个数组的shape，从shape的尾部开始一一比对：\n",
    "1. 如果两个数组的维度相同，对应位置上轴的长度相同或其中一个的轴长度为1，广播兼容，可在轴长度为1的轴上进行广播机制处理（扩展）。\n",
    "2. 如果两个数组的维度不同，那么 ***给低维度的数组前扩展提升一维***，扩展维的轴长度为1，然后在扩展出的维上进行广播机制处理。  \n",
    "\n",
    "以前面的2 * a为例进行说明：\n",
    "- 2是一个数（可以看为(0,)数组），先变为[2]，形状为(1,)\n",
    "- [2]和a形状(2,5)的维度不同，所以先给[2]前增加一个维度变为[[2]]\n",
    "- 从shape的尾部开始看，[[2]]的shape是(1,1)，和a的维度相同，但最后一维的长度是1，与a不同，所以进行扩展为[[2,2,2,2,2]]\n",
    "- 扩展后[[2,2,2,2,2]]的维度为(1,5)，倒数第二个维度的长度为1，与a不同，所以扩展为[[2,2,2,2,2],[2,2,2,2,2]]，从而可以参与广播计算  \n",
    "\n",
    "根据类似的办法，大家可以分析下面例子中广播机制的执行过程"
   ]
  },
  {
   "cell_type": "code",
   "execution_count": null,
   "metadata": {},
   "outputs": [],
   "source": [
    "import numpy as np\n",
    "a = np.arange(1, 5)\n",
    "b = np.arange(4, 7).reshape((3, 1))\n",
    "print (a)   # a的形状是(4,)，a的最后一维长度是4\n",
    "print (b)   # b的形状是(3，1)\n",
    "print (a + b)   # b通过广播机制变为(3,4)，a通过广播机制变为(3,4)"
   ]
  },
  {
   "cell_type": "markdown",
   "metadata": {},
   "source": [
    "### 四 Numpy运算 "
   ]
  },
  {
   "cell_type": "markdown",
   "metadata": {},
   "source": [
    "Numpy数组的算术运算符会应用到 **元素** 级别:"
   ]
  },
  {
   "cell_type": "code",
   "execution_count": null,
   "metadata": {},
   "outputs": [],
   "source": [
    "import numpy as np\n",
    "a = np.array( [20,30,40,50] )\n",
    "b = np.arange( 4 )\n",
    "# 以下的输出均是（4,）形状\n",
    "print(a - b)\n",
    "print(a*b)\n",
    "print(a**2)\n",
    "print(a > 30)"
   ]
  },
  {
   "cell_type": "markdown",
   "metadata": {},
   "source": [
    "某些操作（例如+=和 *=）会直接更改被操作的数组，而不会创建新数组："
   ]
  },
  {
   "cell_type": "code",
   "execution_count": null,
   "metadata": {},
   "outputs": [],
   "source": [
    "import numpy as np\n",
    "a = np.ones((2,3), dtype=int)\n",
    "b = np.random.random((2,3))\n",
    "a *= 3\n",
    "print(a)\n",
    "b += a\n",
    "print(b)\n",
    "# a += b # 这句会报错，因为从float格式变为int类型会损失精度，一般会向上转换"
   ]
  },
  {
   "cell_type": "markdown",
   "metadata": {},
   "source": [
    "许多一元操作，都是作为ndarray类的 **方法** 实现的，而且可以通过指定axis参数沿数组的指定轴应用操作："
   ]
  },
  {
   "cell_type": "code",
   "execution_count": null,
   "metadata": {},
   "outputs": [],
   "source": [
    "import numpy as np\n",
    "a = np.random.random((2,3))\n",
    "print(a)\n",
    "print(a.sum())\n",
    "print(a.max())\n",
    "print(a.mean())\n",
    "print(a.max(axis=0))    # 获取每一列的最大值"
   ]
  },
  {
   "cell_type": "markdown",
   "metadata": {},
   "source": [
    "Numpy中还提供多种[通函数（ufunc）](https://www.numpy.org.cn/user/quickstart.html#%E9%80%9A%E5%87%BD%E6%95%B0)，通函数（或简称为ufunc） 是一种ndarrays以 **逐元素** 方式操作的函数，支持数组广播，类型转换和其他一些标准功能。也就是说，ufunc是一个函数的 “ 矢量化 ” 包装器，它接受固定数量的特定输入并产生固定数量的特定输出。通函数包括三角函数、复函数、取整函数、[算术函数](https://www.runoob.com/numpy/numpy-arithmetic-operations.html)、[统计函数](https://www.runoob.com/numpy/numpy-statistical-functions.html)等等："
   ]
  },
  {
   "cell_type": "code",
   "execution_count": null,
   "metadata": {},
   "outputs": [],
   "source": [
    "import numpy as np\n",
    "B = np.arange(3)\n",
    "C = np.arange(3)\n",
    "print(B)\n",
    "print(C)\n",
    "print(np.exp(B))\n",
    "print(np.sqrt(B))\n",
    "print(np.sin(B))\n",
    "print(np.multiply(B,C))     # 计算B和C逐元素的乘积\n",
    "print(np.max(B))"
   ]
  },
  {
   "cell_type": "markdown",
   "metadata": {},
   "source": [
    "从历史上看，NumPy提供了一种特殊的类型：np.matrix，它是ndarray的子​​类。Numpy.matlib模块中的函数返回的是一个矩阵，而不是 ndarray 对象，这个库中也包含了empty()、zeros()、rands()等函数用来生成各种特殊 <矩阵>(而numpy自带的函数生成的是数组)。"
   ]
  },
  {
   "cell_type": "code",
   "execution_count": null,
   "metadata": {},
   "outputs": [],
   "source": [
    "import numpy.matlib # 注意这句话不能少\n",
    "import numpy as np\n",
    "a = np.matrix([1,2])    # 生成矩阵a\n",
    "print (a, type(a))\n",
    "a = np.matlib.rand((3,3))   # 调用np.matlib库中的函数\n",
    "print(a,type(a))\n",
    "b = np.asarray(a)\n",
    "print(type(b))\n",
    "c = np.asmatrix(b)\n",
    "print(type(c))  # ndarray和matrix类型可以相互转换"
   ]
  },
  {
   "cell_type": "markdown",
   "metadata": {},
   "source": [
    "此外，Numpy也支持丰富的线性代数运算，包括点积、行列式、求逆等。注意对于数组，\\*表示逐元素乘法，而 @ 表示矩阵乘法，它们对应相关的函数 multiply() 和 dot() ；对于矩阵，* 表示矩阵乘法，对于逐元素乘法，必须使用 multiply() 函数。"
   ]
  },
  {
   "cell_type": "code",
   "execution_count": null,
   "metadata": {},
   "outputs": [],
   "source": [
    "import numpy.matlib # 注意这句话不能少\n",
    "import numpy as np\n",
    "a = np.asmatrix(np.random.randint(0,5,(2,2)))\n",
    "b = np.asmatrix(np.random.randint(0,5,(2,2)))\n",
    "print(a, b, sep = '\\n')\n",
    "# 矩阵a和b的矩阵乘法\n",
    "print(np.dot(a,b))  \n",
    "print(a*b)\n",
    "# 矩阵a和b的逐元素乘法\n",
    "print(np.multiply(a,b))\n",
    "\n",
    "a = np.asarray(a)\n",
    "b = np.asarray(b)\n",
    "# 数组的矩阵乘法\n",
    "print(a@b)\n",
    "print(np.dot(a,b))\n",
    "# 数组的逐元素乘法\n",
    "print(a*b)\n",
    "print(np.multiply(a,b))\n",
    "\n",
    "print(np.linalg.det(a)) # 数组a的行列式\n",
    "print(np.linalg.inv(a)) # 数组a的逆\n",
    "print(np.dot(np.linalg.inv(a),a))   # 验证a的逆(注意a可能奇异)"
   ]
  },
  {
   "cell_type": "markdown",
   "metadata": {},
   "source": [
    "目前，[Numpy官网推荐使用ndarray即数组形式](https://www.numpy.org.cn/user/numpy_for_matlab_users.html#array-%E6%88%96-matrix-%EF%BC%9F%E6%88%91%E5%BA%94%E8%AF%A5%E4%BD%BF%E7%94%A8%E5%93%AA%E4%B8%AA%EF%BC%9F)，因为np.linalg库完全支持数组层面的线性代数操作。此外，可以在此处查看[Numpy和Matlab的区别](https://www.numpy.org.cn/user/numpy_for_matlab_users.html#%E4%B8%8E-matlab-%E6%AF%94%E8%BE%83)"
   ]
  }
 ],
 "metadata": {
  "interpreter": {
   "hash": "07efdcd4b820c98a756949507a4d29d7862823915ec7477944641bea022f4f62"
  },
  "kernelspec": {
   "display_name": "Python 3.8.8 64-bit ('base': conda)",
   "language": "python",
   "name": "python3"
  },
  "language_info": {
   "codemirror_mode": {
    "name": "ipython",
    "version": 3
   },
   "file_extension": ".py",
   "mimetype": "text/x-python",
   "name": "python",
   "nbconvert_exporter": "python",
   "pygments_lexer": "ipython3",
   "version": "3.8.8"
  },
  "orig_nbformat": 4
 },
 "nbformat": 4,
 "nbformat_minor": 2
}
