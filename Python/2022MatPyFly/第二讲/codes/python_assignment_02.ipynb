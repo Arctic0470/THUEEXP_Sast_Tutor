{
 "cells": [
  {
   "cell_type": "markdown",
   "metadata": {},
   "source": [
    "1.(with与文件读写)\n",
    "\n",
    "请将第一周Assignment3 文件读写中的读写步骤改为用with完成。\n",
    "\n",
    "注意两个文件在files文件夹内，注意路径的修改。"
   ]
  },
  {
   "cell_type": "code",
   "execution_count": null,
   "metadata": {},
   "outputs": [],
   "source": []
  },
  {
   "cell_type": "markdown",
   "metadata": {},
   "source": [
    "2.(不定量输入的函数)\n",
    "\n",
    "实现函数my_zip，功能为缀连tuples。例如输入为元组(1,2),('a','b'),('Hello'),函数的输出应该为这些元组按顺序链接的值。"
   ]
  },
  {
   "cell_type": "code",
   "execution_count": null,
   "metadata": {},
   "outputs": [],
   "source": [
    "def my_zip(*tuples):\n",
    "    pass\n",
    "\n",
    "#测试\n",
    "print(my_zip((1,2),('a','b'),(\"Hello\",)))\n"
   ]
  },
  {
   "cell_type": "markdown",
   "metadata": {},
   "source": [
    "3.(多值输出的函数)\n",
    "\n",
    "实现函数calc,其功能为针对复数的转换。函数根据输入的flag的值完成(实部,虚部)与(辐长,模角)的转换。flag缺省时默认为从(实部,虚部)转换为(辐长,模角)。\n",
    "\n",
    "可以使用Numpy,math库"
   ]
  },
  {
   "cell_type": "code",
   "execution_count": null,
   "metadata": {},
   "outputs": [],
   "source": [
    "import math\n",
    "\n",
    "def calc(x, y, flag=0):\n",
    "    pass\n",
    "#  测试一下\n",
    "print(calc(1,math.sqrt(3)))\n",
    "print(calc(2,0,1))"
   ]
  },
  {
   "cell_type": "markdown",
   "metadata": {},
   "source": [
    "4.(作为对象的函数)\n",
    "\n",
    "有一个元素为dict的list。每个dict都是一份学生信息，依次为名字，身高，体重，年龄，性别。\n",
    "\n",
    "请根据年龄，以降序排列这个dict。只能使用1行代码。\n",
    "\n",
    "提示：使用list.sort()函数和lambda函数"
   ]
  },
  {
   "cell_type": "code",
   "execution_count": null,
   "metadata": {},
   "outputs": [],
   "source": [
    "# 测试\n",
    "L = [{'name': 'Alice', 'height': 160, 'weight': 60, 'age': 16, 'sex': 'Female'}, {'name': 'Bob', 'height': 180, 'weight': 75, 'age': 18, 'sex': 'Male'},{'name': 'Carol', 'height': 170, 'weight': 65, 'age': 17, 'sex': 'Female'},{'name': 'David', 'height': 175, 'weight': 70, 'age': 20, 'sex': 'Male'},]  #这是数据，有4个dict\n",
    "\n",
    "print(L)\n"
   ]
  },
  {
   "cell_type": "markdown",
   "metadata": {},
   "source": [
    "5.(类的定义)\n",
    "\n",
    "在Python中尝试定义一个优先级队列(priority queue)。类内需要包含两个方法`queue.get`和`queue.put`来向队列中添加/删除元素。同时，优先级队列相较于正常队列的独特之处就是在删除元素的时候，删除**优先级最高**的元素(做作业的时候默认数值越小的优先级越高)。因此，还需要修改类的比较函数。\n",
    "\n",
    "注：可以利用heapq包中的工具\n",
    "\n",
    "思考：如果数值越大优先级越高，应该怎么操作？"
   ]
  },
  {
   "cell_type": "code",
   "execution_count": null,
   "metadata": {},
   "outputs": [],
   "source": [
    "# 导入heapq\n",
    "\n",
    "#  出作业的时候隐去get和put的函数体\n",
    "class queue(object):\n",
    "    def __init__(self):\n",
    "        self.heap = []\n",
    "\n",
    "    def get(self, x):   # 添加元素\n",
    "        pass\n",
    "    \n",
    "    def put(self):   # 弹出元素\n",
    "        pass\n",
    "# 测试\n",
    "test=queue()\n",
    "test.get(7)\n",
    "test.get(5)\n",
    "test.get(10)\n",
    "test.get(-1)\n",
    "print(test.put())\n",
    "test.get(9)\n",
    "print(test.put())\n"
   ]
  },
  {
   "cell_type": "markdown",
   "metadata": {},
   "source": [
    "6.(重载默认方法的类定义)\n",
    "\n",
    "这个部分具有比较高的自由度。请同学们自己设计一个情景来练习类的继承与类的默认函数的重载操作(比如之前的复数数值计算)，实现尽可能多的默认函数。\n",
    "\n",
    "**(注：作业仅供练习，大家的代码长度不影响评分，请勿私自内卷)**"
   ]
  },
  {
   "cell_type": "code",
   "execution_count": null,
   "metadata": {},
   "outputs": [],
   "source": []
  }
 ],
 "metadata": {
  "interpreter": {
   "hash": "73b1b860e2bc9b099607b2af11b0fed9d62f827c85d58c174db333ac05c0c229"
  },
  "kernelspec": {
   "display_name": "Python 3.8.10 64-bit (windows store)",
   "language": "python",
   "name": "python3"
  },
  "language_info": {
   "codemirror_mode": {
    "name": "ipython",
    "version": 3
   },
   "file_extension": ".py",
   "mimetype": "text/x-python",
   "name": "python",
   "nbconvert_exporter": "python",
   "pygments_lexer": "ipython3",
   "version": "3.8.10"
  },
  "orig_nbformat": 4
 },
 "nbformat": 4,
 "nbformat_minor": 2
}
