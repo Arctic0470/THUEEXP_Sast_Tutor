{
 "cells": [
  {
   "cell_type": "markdown",
   "metadata": {},
   "source": [
    "**引言**\n",
    "\n",
    "相信在上一周的Python教程中，各位同学应该对Python的基础语法有了一些了解。而在本周的学习中，我们将把目光放到Python中一个非常重要的部分————函数(function)和类(class)上。"
   ]
  },
  {
   "cell_type": "markdown",
   "metadata": {},
   "source": [
    "### 函数(function)"
   ]
  },
  {
   "cell_type": "markdown",
   "metadata": {},
   "source": [
    "**1.目录**\n",
    "\n",
    "在函数的Python教程中，我们将学习以下知识点\n",
    "- with的使用和文件读写\n",
    "- 函数的定义\n",
    "- Python函数的返回值特性\n",
    "- 函数的参数特性\n",
    "- 函数对象"
   ]
  },
  {
   "cell_type": "markdown",
   "metadata": {},
   "source": [
    "1.**with的使用与文件读写**\n",
    "\n",
    "with是Python2.5开始引入的一个新语法，是一种上下文管理工具。适用于对资源进行访问的场合，比如文件使用后的关闭，线程中锁的自动获取与释放。\n",
    "\n",
    "with语句的语法是：\n",
    "with expression [as var]:\n",
    "    with body\n",
    "\n",
    "其中expression是一个表达式，返回一个对象，储存在var中(可以有多个返回值)。\n",
    "\n",
    "with语句最常用的地方就是用于文件读写，详情见下面的例子。"
   ]
  },
  {
   "cell_type": "code",
   "execution_count": null,
   "metadata": {},
   "outputs": [],
   "source": [
    "with open('./files/example.txt') as f:\n",
    "    print(f.read())\n",
    "\n",
    "print(f.closed)"
   ]
  },
  {
   "cell_type": "markdown",
   "metadata": {},
   "source": [
    "可以看到，with语句在打开example.txt的时候，也自动帮我们关上了文件，不需要我们像编写C++代码一样手动关闭文件了。"
   ]
  },
  {
   "cell_type": "markdown",
   "metadata": {},
   "source": [
    "2.**函数的定义**\n",
    "\n",
    "在Python中，定义函数是需要使用def语句的。具体格式为:def 函数名(参数表):    (**注意最后一定要写冒号！**)\n",
    "\n",
    "函数的返回值由return后面的变量给出。函数中可以利用return随时返回结果。\n",
    "\n",
    "当整个函数没有return语句的时候，Python会执行return None，这就类似于C++中的void函数\n",
    "\n",
    "其具体例子如下："
   ]
  },
  {
   "cell_type": "code",
   "execution_count": null,
   "metadata": {},
   "outputs": [],
   "source": [
    "def my_add(a,b):  #def 函数名(参数表):\n",
    "  c=a+b  #函数体\n",
    "  return c  #返回值\n",
    "\n",
    "# 测试一下这个函数\n",
    "a=1\n",
    "b=2\n",
    "print(my_add(a,b))"
   ]
  },
  {
   "cell_type": "markdown",
   "metadata": {},
   "source": [
    "3.**返回值特性**\n",
    "\n",
    "相比于C++，Python语言对函数返回值的要求更加宽松。我们可以在一个函数中设置多个返回值，而不是像C++一样每个函数只有一个返回值。\n",
    "\n",
    "在调用有多个返回值的函数的时候，请注意等号左边的变量个数应该与函数的返回值个数相等，并且用逗号链接。\n",
    "\n",
    "具体例子如下："
   ]
  },
  {
   "cell_type": "code",
   "execution_count": null,
   "metadata": {},
   "outputs": [],
   "source": [
    "def move(x,y,step):  #计算二维坐标移动\n",
    "  x=x+step\n",
    "  y=y+step\n",
    "  return x,y   #多个返回值由逗号链接\n",
    "\n",
    "#测试一下\n",
    "x=10\n",
    "y=-10\n",
    "step=2\n",
    "nx,ny=move(x,y,step)\n",
    "print(nx,ny)"
   ]
  },
  {
   "cell_type": "markdown",
   "metadata": {},
   "source": [
    "4.**参数特性**\n",
    "\n",
    "以上演示了Python中最为基础的函数定义与调用方式。但是，当我们编程的时，可能会碰到我们自己也无法确定函数的参数有多少个的情况。针对这个问题，Python提供了多种灵活的参数形态，让我们来逐个看看。"
   ]
  },
  {
   "attachments": {},
   "cell_type": "markdown",
   "metadata": {},
   "source": [
    "- **默认参数**\n",
    "\n",
    "这和我们在C++中所学的“函数缺省值”是一个概念。在定义函数的时候，可以用=号，在某些参数的后面添加“缺省值”。这样，在输入缺少这个参数的值的情况下，函数会以这个缺省值执行。默认参数的好处，就在于能够降低函数调用的难度。在函数调用时，缺省值可填可不填，这样就增加了函数的泛用性。"
   ]
  },
  {
   "cell_type": "code",
   "execution_count": null,
   "metadata": {},
   "outputs": [],
   "source": [
    "def add(a,b=3):   # 利用缺省值,b缺省值为3\n",
    "    return a+b\n",
    "\n",
    "#测试一下\n",
    "print(add(2))  #这里只传入了一个值，赋值给a，b用缺省值3运行\n",
    "\n",
    "#结果为5"
   ]
  },
  {
   "cell_type": "markdown",
   "metadata": {},
   "source": [
    "在调用默认参数的时候，还有一个重中之重需要注意：**默认参数必须指向不变对象！**假如默认参数指向可变对象，那么在可变对象变化的时候，默认参数也会随之变化。具体见下面例子："
   ]
  },
  {
   "cell_type": "code",
   "execution_count": null,
   "metadata": {},
   "outputs": [],
   "source": [
    "def addtail1(L=[]):  #参数为list L，指向可变对象[]\n",
    "    L.append('FINISH')  #功能是在L之后加一个'FINISH'\n",
    "    return L\n",
    "\n",
    "def addtail2(L=None):  #参数为list L，指向不变对象None\n",
    "    if L is None:\n",
    "        L=[]\n",
    "    L.append('FINISH')\n",
    "    return L\n",
    "\n",
    "#测试一下\n",
    "print(\"指向可变对象的函数\")\n",
    "print(addtail1())\n",
    "print(addtail1())\n",
    "\n",
    "print(\"指向不变对象的函数\")\n",
    "print(addtail2())\n",
    "print(addtail2())\n",
    "\n",
    "#从输出可以看出，在第二次调用addtail1的时候，第一次的运行结果并未被清除\n",
    "#而addtail2就没有这种情况"
   ]
  },
  {
   "cell_type": "markdown",
   "metadata": {},
   "source": [
    "- **可变参数**\n",
    "\n",
    "  默认参数并不能解决所有的问题。有时候，函数参数的个数是未知且无法遍历的。比如这一个问题：给定一组数字，求其和。我们就不能用默认参数来解决这个问题(没办法写无穷个缺省值为0的变量)。\n",
    "  当然，我们可以把输入值转化为list传入，但是这样在函数调用部分又多了list组装的语句，有没有两全其美的方法呢？这就要用到我们的**可变参数**了。"
   ]
  },
  {
   "cell_type": "code",
   "execution_count": null,
   "metadata": {},
   "outputs": [],
   "source": [
    "def addall1(l):   #利用list\n",
    "    sum=0\n",
    "    for n in l:\n",
    "        sum=sum+n\n",
    "    return sum\n",
    "\n",
    "def addall2(*numbers):  #利用可变参数numbers\n",
    "    sum=0\n",
    "    for n in numbers:\n",
    "        sum=sum+n\n",
    "    return sum\n",
    "\n",
    "#测试一下\n",
    "print(addall1([1,2,3]))   #输入值必须要是list(其实tuple也行)\n",
    "print(addall2(1,2,3))     #输入值不是list\n",
    "\n",
    "#假如你已经有一个list，怎么调用可变参数呢？\n",
    "l=[1,2,3]\n",
    "print(addall1(l))\n",
    "print(addall2(*l))  #加一个星号就行了~\n",
    "\n",
    "#结果是一样的"
   ]
  },
  {
   "cell_type": "markdown",
   "metadata": {},
   "source": [
    "- **关键字参数**\n",
    "\n",
    "可变参数允许用户传入任意个参数。而关键字参数允许用户传入任意个**带参数名**的参数。函数在执行的时候会将这些参数名和数值组装为dict存在关键字参数中。这使得函数的泛用性进一步增强。例子如下："
   ]
  },
  {
   "cell_type": "code",
   "execution_count": null,
   "metadata": {},
   "outputs": [],
   "source": [
    "def register(name,ID,**kw):  #注册函数，name与ID为默认参数必要，剩下的存储在关键字参数**kw中\n",
    "    print('name:',name,'ID:',ID,'others:',kw)\n",
    "    \n",
    "register('Alice',10)   #只有默认参数的调用\n",
    "register('Bob',12,sex='Male')   #向关键词参数注入变量，注意一定要有参数名(sex)和参数值('Male')两部分\n",
    "\n",
    "# 当然，你可以直接使用dict注入关键字参数，这样就不需要列举了\n",
    "dict={'sex':'Female','Age':15}\n",
    "register('Carol',3,**dict)"
   ]
  },
  {
   "cell_type": "markdown",
   "metadata": {},
   "source": [
    "- **命名关键字参数**\n",
    "\n",
    "   在关键字参数的使用中，我们没有对参数的输入做出任何限制。如果希望对关键字参数的输入做出限制，我们可以使用**命名关键字参数**。具体就是在参数列表中加入一个特殊分割符*，那么之后的所有参数都是命名关键字参数。(如果已经有可变参数，后面就不需要*了)"
   ]
  },
  {
   "cell_type": "code",
   "execution_count": null,
   "metadata": {},
   "outputs": [],
   "source": [
    "def register(name,ID,*,sex='Male',age):   #命名关键字参数也能有缺省值\n",
    "    print(name,ID,sex,age)\n",
    "\n",
    "register('Alice',10,sex='Female',age='13')\n",
    "register('Bob',12,age='14')   #利用缺省值"
   ]
  },
  {
   "cell_type": "markdown",
   "metadata": {},
   "source": [
    "- **参数顺序**\n",
    "\n",
    "  以上我们介绍了必选参数，默认参数，可变参数，关键字参数和命名关键字参数。在函数定义的时候，这些参数可以组合使用。但是顺序必须是：**必选->默认->可变->关键字(命名/非命名)**。例子如下：\n",
    "  注：虽然这五种参数可以混用，但是尽量不要使用太多的组合。这会造成你的程序的可读性非常差(每次都要揣摩传的参数给了谁)。"
   ]
  },
  {
   "cell_type": "code",
   "execution_count": null,
   "metadata": {},
   "outputs": [],
   "source": [
    "def func(a,b,c=0,*args,**kw):   #必选参数a,b，默认参数c，可变参数args，关键字参数kw\n",
    "   print('a =', a, 'b =', b, 'c =', c, 'args =', args, 'kw =', kw)\n",
    "    \n",
    "#测试一下\n",
    "func(1,2)  #只有a,b\n",
    "func(1,2,c=3)   #修改c的值\n",
    "func(1,2,3,'a','b') #传入可变参数\n",
    "func(1,2,3,'a','b',others=100)  #传入关键字参数\n",
    "\n",
    "#理解了这段程序，就理解了Python大部分的函数参数特性了。"
   ]
  },
  {
   "cell_type": "markdown",
   "metadata": {},
   "source": [
    "5.**函数对象**\n",
    "\n",
    "Python是一种面向对象的语言。那么秉承着一切皆对象的思想，我们所学的函数，也应该是一个对象，可以作为参数传递。在进行参数传递的时候，函数名就是函数对象的名字。例子如下："
   ]
  },
  {
   "cell_type": "code",
   "execution_count": null,
   "metadata": {},
   "outputs": [],
   "source": [
    "func=lambda x,y:x+y    # lambda是生成函数对象/定义函数的简单方式\n",
    "# 具体应用就是冒号前为参数表，后为返回值\n",
    "\n",
    "def test(f,a,b):   # 灵活的测试函数，可以用a和b对函数f进行调试\n",
    "    print('test')\n",
    "    print(f(a,b))\n",
    "    \n",
    "#测试一下\n",
    "test(func,2,3)   #输出为func(2,3)=5，第一个func就是函数对象"
   ]
  },
  {
   "cell_type": "markdown",
   "metadata": {},
   "source": [
    "有了函数对象的概念，我们还需要介绍几个Python内置的关于函数对象操作的函数：\n",
    "\n",
    "- map(func,list):将函数func作用于list内的所有元素上\n",
    "- filter(func,list):将函数func作用于list内的所有元素上，对于返回true的元素，存储在输出中\n",
    "- reduce(func,list):将函数func累进作用于list内所有元素上，要求func有两个参数\n",
    "\n",
    "需要注意的是，在Python 3.x的语法中，map和filter的输出从list变为了iterator，因此需要再套一层list()函数将其转化为list输出\n",
    "\n",
    "例子如下："
   ]
  },
  {
   "cell_type": "code",
   "execution_count": null,
   "metadata": {},
   "outputs": [],
   "source": [
    "from functools import reduce  #Python3的reduce函数被移到functools中\n",
    "#Python2不需要\n",
    "def judge(a):\n",
    "    if a>100:\n",
    "        return True\n",
    "    else:\n",
    "        return  False\n",
    "\n",
    "print(list(map(lambda x:x+3,[1,3,5,6])))  #Python3的map输出需要用list函数转换，Python2不需要\n",
    "print(list(filter(judge,[99,101,100,200])))  #筛选list中满足judge函数的数\n",
    "print(reduce((lambda x,y:x+y),[1,2,3,4,5]))  #求累计和"
   ]
  },
  {
   "cell_type": "markdown",
   "metadata": {},
   "source": [
    "### 类(Class)"
   ]
  },
  {
   "cell_type": "markdown",
   "metadata": {},
   "source": [
    "**1.目录**\n",
    "\n",
    "在类的Python教程中，我们将学习以下知识点：\n",
    "- 类(Class)和实例(Instance)\n",
    "- 默认的类函数以及它们的重载\n",
    "- 类方法与静态方法\n",
    "- 继承与多态\n",
    "- (Optional)类中的细节\n",
    "- **import,from,as的使用**\n",
    "- __name__==\"__main__\"的含义\n",
    "- (Optional)一些有用的包"
   ]
  },
  {
   "cell_type": "markdown",
   "metadata": {},
   "source": [
    "1.**类和实例**\n",
    "\n",
    "面向对象编程最重要的概念就是类(Class)和实例(Instence)了。我们在课上已经学过，C++的类是抽象的模板，而实例是根据\"类\"这个模板所创造出的具体对象。每个对象有着相同的方法，以及不同的内部数据。Python中的类也一样。\n",
    "\n",
    "要学习类的用法，首先要学习类的定义。在Python中，类的定义需要声明类名ClassName和继承类Object，语法是这样的`class ClassName(Object):`(**和函数一样注意冒号**)。省略Object和它对应的括号的话，这个类会隐式继承Python中的基类。"
   ]
  },
  {
   "cell_type": "code",
   "execution_count": null,
   "metadata": {},
   "outputs": [],
   "source": [
    "class MyClass(object):   #类的定义格式\n",
    "  pass   # 可忽略\n"
   ]
  },
  {
   "cell_type": "markdown",
   "metadata": {},
   "source": [
    "通过class关键字我们可以创建类。对于类的使用则需要依托类来创建实例。在Python中，实例的创建是用类名+括号来实现的，比如："
   ]
  },
  {
   "cell_type": "code",
   "execution_count": null,
   "metadata": {},
   "outputs": [],
   "source": [
    "EE96=MyClass()\n",
    "#这就创建了一个MyClass的实例EE96\n",
    "#让我们看看它们类型\n",
    "print(EE96)   #输出一个MyClass的对象\n",
    "print(MyClass)  #输出一个class"
   ]
  },
  {
   "cell_type": "markdown",
   "metadata": {},
   "source": [
    "上面我们创建的EE96是一个空的类。在Python中，我们可以自由地给一个实例绑定属性。比如"
   ]
  },
  {
   "cell_type": "code",
   "execution_count": null,
   "metadata": {},
   "outputs": [],
   "source": [
    "EE96.students=[\"WuHaochen\"]\n",
    "EE96.students"
   ]
  },
  {
   "cell_type": "markdown",
   "metadata": {},
   "source": [
    "这就给EE96这个类添加了一个students的属性，赋值为一个列表。当然，我们可以在创建类的时候就把一些必要的属性强制写入，这就涉及到第二部分中的一个特殊函数,`__init__()`了，在这一部分中就不再赘述了"
   ]
  },
  {
   "cell_type": "markdown",
   "metadata": {},
   "source": [
    "2.**部分默认类函数以及其重载**\n",
    "\n",
    "我们在定义一个新的Python类的时候，其中会自带一些默认的，特殊的方法。这些方法都是对于一个类来说非常基础的功能，比如初始化，运算，比较，数值转换等。我们可以用dir命令来查看一个类的方法。"
   ]
  },
  {
   "cell_type": "code",
   "execution_count": null,
   "metadata": {},
   "outputs": [],
   "source": [
    "dir([MyClass])\n",
    "\n",
    "#方法非常多，以至于超出了限制的极限"
   ]
  },
  {
   "cell_type": "markdown",
   "metadata": {},
   "source": [
    "在这个教程中，我们只关注以下三个方法:`__init__(),__call__(),__add__()`。(注意他们前后的下划线)它们分别是初始化(可以理解为构造函数)，调用和加法(其他运算同理)的方法。我们可以重载这些默认方法，来自定义我们自己的初始化，调用和运算方法。\n",
    "\n",
    "重载这些方法只需要在定义类的时候，直接定义这些方法即可。具体例子见下："
   ]
  },
  {
   "cell_type": "code",
   "execution_count": null,
   "metadata": {},
   "outputs": [],
   "source": [
    "class Complex(object):   #定义一个复数类\n",
    "\n",
    "  def __init__(self,x=0,y=0):   #可以按照构造函数理解\n",
    "      self.x=x\n",
    "      self.y=y    #从__init__的参数向类内的参数赋值(Python的类不需要像C++一样在private/public中声明变量，直接在__init__中创建即可)。\n",
    "  \n",
    "  def __call__(self):  #__call__函数允许\"实例名+()\"这种调用方式，这种语法会直接执行call函数中的内容\n",
    "    print(\"Call函数被调用！\")\n",
    "    return 1\n",
    "  \n",
    "  def __add__(self,others):   #类比C++中类内的运算符重载(__sub__等是一样的道理)\n",
    "    return Complex(self.x+others.x,self.y+others.y)\n",
    "\n",
    "      \n",
    "#测试一下\n",
    "a=Complex()  # 缺省构造,调用init函数\n",
    "b=Complex(2,2)\n",
    "print(a.x,a.y,b.x,b.y)\n",
    "c=a()   #调用call函数\n",
    "print(c)\n",
    "d=a+b    #调用add函数\n",
    "print(d.x,d.y)"
   ]
  },
  {
   "cell_type": "markdown",
   "metadata": {},
   "source": [
    "当然，Python中类的默认成员函数有很多，这里只介绍了三个。各位同学有兴趣的话可以自行搜索其他默认 函数的功能与重载方法。·"
   ]
  },
  {
   "cell_type": "markdown",
   "metadata": {},
   "source": [
    "3.**类方法与静态方法**\n",
    "\n",
    "在类中定义的函数，我们称之为\"方法\"。在Python中，有三种比较常见的方法类型————实例方法，@classmethod修饰的类方法和@staticmethod修饰的静态方法。接下来让我们关注这些不同的方法。\n",
    "\n",
    "- 实例方法\n",
    "  \n",
    "  通常情况下定义的方法都是实例方法，比如之前的`__init__(),__add__(),__call__()`以及自己定义的大多数函数。\n",
    "\n",
    "  实例方法的特征是，其参数表中必定包含**self**这个参数，用于指定调用这个方法的实例对象。(类是不能调用实例方法的，但是可以调用类方法和参数方法)。\n",
    "\n",
    "  实例方法通常由实例直接调用。当然，Python也允许用类调用实例方法，只不过这样要给self手动传参。\n",
    "\n",
    "- 类方法\n",
    "  \n",
    "  类方法和实例方法类似，也至少要包含一个参数。一般命名为**cls**。Python会自动将类本身绑定传给cls参数(**不是实例！**)。\n",
    "\n",
    "  但是类方法和实例方法最大的差别就是，在函数的def之前，需要使用修饰符`@classmethod`进行修饰。否则的话，Python会将这个函数识别为实例方法。\n",
    "\n",
    "  类方法可以用类名直接调用，不推荐用实例名嗲用。\n",
    "\n",
    "- 静态方法\n",
    "\n",
    "  静态方法可以理解为在类命名空间内的函数。静态方法没有self,cls一类特殊参数，不会绑定任何类或者对象，从而无法调用任何类属性和方法。\n",
    "\n",
    "  静态方法需要使用`@staticmethod`修饰。其调用既可以使用类名，也可以使用实例名。\n",
    "\n",
    "  光说肯定很难理解，让我们来看一点例子："
   ]
  },
  {
   "cell_type": "code",
   "execution_count": null,
   "metadata": {},
   "outputs": [],
   "source": [
    "class Example(object):\n",
    "    def __init__(self, x):\n",
    "        self.member = x\n",
    "\n",
    "    def print1(self):   # 实例方法需要有self参数\n",
    "        print(self.member)  # 可以调用实例对象的内容\n",
    "\n",
    "    @classmethod\n",
    "    def print2(cls):   # 类方法需要有cls参数，与本类绑定\n",
    "        print(cls)   # 输出为类\n",
    "\n",
    "    @staticmethod\n",
    "    def print3(t):  # 静态方法不需要cls与self参数,这里的t是普通参数\n",
    "        print(t)\n",
    "\n",
    "\n",
    "# 调用测试\n",
    "example = Example(10)  # 创建一个对象\n",
    "example.print1()  # 从实例名调用实例方法\n",
    "# 无法从类名调用\n",
    "example.print2()  # 从实例名调用类方法\n",
    "Example.print2()  # 从类名调用类方法\n",
    "example.print3(5)  # 从实例名调用静态方法\n",
    "Example.print3(5)  # 从类名调用静态方法\n"
   ]
  },
  {
   "cell_type": "markdown",
   "metadata": {},
   "source": [
    "4.**继承与多态**\n",
    "\n",
    "Python类的继承与多态和C++中的特性并无很大区别，在此只给出参考程序与注释。"
   ]
  },
  {
   "cell_type": "code",
   "execution_count": null,
   "metadata": {},
   "outputs": [],
   "source": [
    "# 继承特性\n",
    "class Student(object):   # 定义学生类\n",
    "  def involution(self):\n",
    "    print(\"Students are involuting...\")\n",
    "\n",
    "class Grade1(Student):  # 一年级类继承学生类\n",
    "  pass  \n",
    "\n",
    "class Grade4(Student):  # 四年级类继承学生类\n",
    "  def involution(self):  # 重载成员方法\n",
    "      print(\"Students are touching fish...\")\n",
    "\n",
    "I=Grade1()  #实例化一年级学生\n",
    "I.involution()\n",
    "# 继承特性使得类型为Grade1的实例I能直接调用父类中的方法\n",
    "\n",
    "You=Grade4()   #实例化四年级学生\n",
    "You.involution()\n",
    "# 多态特性使得类型为Grade4在调用父类和子类共有的方法时，运行子类的方法\n"
   ]
  },
  {
   "cell_type": "markdown",
   "metadata": {},
   "source": [
    "5.类中的细节————实例属性与类属性(Optional)\n",
    "\n",
    "本节选学，不附讲解。同学们可以在廖雪峰的教程中找到详细的讲解。"
   ]
  },
  {
   "cell_type": "markdown",
   "metadata": {},
   "source": [
    "6.**import,from,as**\n",
    "\n",
    "会写Python的个个都是\"调包侠\"，而调包的基础，就是`import,from,as`这三个命令。学会了这三个命令，就能将前人造好封装好的所有轮子拿来自己用，这也是Python语言强大的关键处。\n",
    "\n",
    "导入第三方模块有三种语法，其中最简单的就是直接使用`import`，比如`import numpy`\n",
    "\n",
    "假如你觉得第三方库的名字过长不便于使用，可以利用`as`赋予其简称，比如`import numpy as np`，之后就可以用`np`指代`numpy`。\n",
    "\n",
    "在import了模块之后，就可以调用模块中的所有方法，比如`np.array([1,1])`就能调用numpy中的array函数创建数组。\n",
    "\n",
    "如果你只想调用第三方模块中的某一部分，就可以使用`from...import`语句，比如`from matplotllob import pyplot`。\n",
    "\n",
    "例子如下："
   ]
  },
  {
   "cell_type": "code",
   "execution_count": null,
   "metadata": {},
   "outputs": [],
   "source": [
    "import numpy as np\n",
    "from datetime import datetime  # 两种用法\n",
    "\n",
    "print(np.array([1, 2]))  # 调用np方法\n",
    "print(datetime.now())  # 调用datetime下的方法\n"
   ]
  },
  {
   "cell_type": "markdown",
   "metadata": {},
   "source": [
    "7.**`__name__=='__main__'`的含义**\n",
    "\n",
    "Python的本质是脚本语言，它不像C++一样可以先编译再运行，而是动态地从第一行开始，逐行解释运行。一个Python文件除了可以直接运行之外，还可以作为模块(库)被`import`导入。\n",
    "\n",
    "而`__name__=='__main__'`就相当于Python模拟的一个程序入口，也就是可以理解为C++中的`int main()`。Python并没有规定这种格式，这只是一种编码规范。\n",
    "\n",
    "简单来说，当这个文件被当做主程序运行的时候，`__name__=='__main__'`为真，下面的语句将会被执行，而若该文件被当做模块导入，这些语句将不会被执行。"
   ]
  },
  {
   "cell_type": "markdown",
   "metadata": {},
   "source": [
    "8.**一些有用的包**\n",
    "\n",
    "我们可以使用pip或者是conda命令来安装第三方模块库(轮子)。\n",
    "\n",
    "考虑到MatPyFly的Python部分是为媒体与认知做准备，笔者认为以下包是较为重要的：**numpy,matplotlib,torch,cv2,keras...**\n",
    "\n",
    "Python的各类第三方包浩如烟海，同学们若有时间，也可以上网搜索文档来尝试一番，十分有趣。"
   ]
  }
 ],
 "metadata": {
  "interpreter": {
   "hash": "73b1b860e2bc9b099607b2af11b0fed9d62f827c85d58c174db333ac05c0c229"
  },
  "kernelspec": {
   "display_name": "Python 3 (ipykernel)",
   "language": "python",
   "name": "python3"
  },
  "language_info": {
   "codemirror_mode": {
    "name": "ipython",
    "version": 3
   },
   "file_extension": ".py",
   "mimetype": "text/x-python",
   "name": "python",
   "nbconvert_exporter": "python",
   "pygments_lexer": "ipython3",
   "version": "3.8.10"
  }
 },
 "nbformat": 4,
 "nbformat_minor": 2
}
