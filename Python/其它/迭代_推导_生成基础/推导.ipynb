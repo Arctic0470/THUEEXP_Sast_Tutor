{
 "cells": [
  {
   "cell_type": "markdown",
   "metadata": {},
   "source": [
    "# 推导"
   ]
  },
  {
   "cell_type": "markdown",
   "metadata": {},
   "source": [
    "- 最主要的迭代协议上下文之一\n",
    "- 较for循环，速度更快，推荐使用"
   ]
  },
  {
   "cell_type": "code",
   "execution_count": null,
   "metadata": {},
   "outputs": [],
   "source": [
    "# 举例：最简单的列表推导\n",
    "L = [1, 2, 3, 4, 5]\n",
    "print([x**2 for x in L])\n",
    "print(([x**2 for x in L if x % 2])  # 添加筛选分句if"
   ]
  },
  {
   "cell_type": "code",
   "execution_count": null,
   "metadata": {},
   "outputs": [],
   "source": [
    "# 举例：文件中的列表推导\n",
    "print([line for line in open('data.txt')])  \n",
    "print([line.rstrip() for line in open('data.txt')]) # 可以在推导式中，对迭代结果进行进一步加工"
   ]
  },
  {
   "cell_type": "markdown",
   "metadata": {},
   "source": [
    "在了解了迭代协议后，列表推导会相对简单。想要了解更多细节，可以参考《Python学习手册》"
   ]
  }
 ],
 "metadata": {
  "language_info": {
   "name": "python"
  },
  "orig_nbformat": 4
 },
 "nbformat": 4,
 "nbformat_minor": 2
}
