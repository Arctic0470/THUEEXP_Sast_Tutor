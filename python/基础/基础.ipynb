{
 "metadata": {
  "language_info": {
   "codemirror_mode": {
    "name": "ipython",
    "version": 3
   },
   "file_extension": ".py",
   "mimetype": "text/x-python",
   "name": "python",
   "nbconvert_exporter": "python",
   "pygments_lexer": "ipython3",
   "version": "3.8.8"
  },
  "orig_nbformat": 4,
  "kernelspec": {
   "name": "python3",
   "display_name": "Python 3.8.8 64-bit ('base': conda)"
  },
  "interpreter": {
   "hash": "cd8ac7ed5329ff1f59a8356dfddf06d159cf18414acbfd7b13d1d5cd1cbb5d7d"
  }
 },
 "nbformat": 4,
 "nbformat_minor": 2,
 "cells": [
  {
   "source": [
    "# 基础"
   ],
   "cell_type": "markdown",
   "metadata": {}
  },
  {
   "source": [
    "1、具有不变性的对象：数字、元组、字符串\n",
    "\n",
    "2、集合只能包含不可变对象\n",
    "\n",
    "3、bool是int的子类\n",
    "\n",
    "4、空元组：()\n",
    "\n",
    "5、单个元素得元组：()\n",
    "\n",
    "6、迭代协议：object.____next____()\n",
    "\n"
   ],
   "cell_type": "markdown",
   "metadata": {}
  },
  {
   "source": [
    "# string部分函数\n",
    "str = '/opt/ros/noetic/lib/python3/dist-packages\\n'\n",
    "print(str.split('/'))   # split\n",
    "print(str.strip().split('/'))   # strip\n",
    "help(str.lstrip)"
   ],
   "cell_type": "code",
   "metadata": {},
   "execution_count": null,
   "outputs": []
  },
  {
   "cell_type": "code",
   "execution_count": null,
   "metadata": {},
   "outputs": [],
   "source": [
    "# 列表的推导\n",
    "M = [[1,2,3], \n",
    "    [4,5,6],\n",
    "    [7,8,9]]\n",
    "print([row for row in M])\n",
    "print([row[2] for row in M])\n"
   ]
  },
  {
   "cell_type": "code",
   "execution_count": null,
   "metadata": {},
   "outputs": [],
   "source": [
    "# map\n",
    "q = map(tuple, M)\n",
    "print(next(q))\n",
    "print(next(q))"
   ]
  },
  {
   "cell_type": "code",
   "execution_count": null,
   "metadata": {},
   "outputs": [],
   "source": [
    "# 文件入门：写\n",
    "x, y, z = 1, 2, 3\n",
    "file = open('data.txt', 'w')\n",
    "file.write('{}, {}, {}\\n'.format(x, y, z))\n",
    "file.write('{}\\n'.format([x, y, z]))\n",
    "file.write('{}\\n'.format(dict(zip(['a', 'b', 'c'], [x, y, z]))))\n",
    "file.close()"
   ]
  },
  {
   "cell_type": "code",
   "execution_count": null,
   "metadata": {},
   "outputs": [],
   "source": [
    "# 文件入门：读\n",
    "file = open('data.txt', 'r')\n",
    "for line in file:\n",
    "    print(eval(line))   # eval将字符串当成可执行代码\n",
    "file.close()"
   ]
  },
  {
   "cell_type": "code",
   "execution_count": null,
   "metadata": {},
   "outputs": [],
   "source": [
    "# pickle模块\n",
    "import pickle\n",
    "file = open('data.pkl', 'wb')\n",
    "pickle.dump(dict(zip(['a', 'b', 'c'], [x, y, z])), file)\n",
    "pickle.dump(M, file)\n",
    "file.close()\n",
    "file = open('data.pkl', 'rb')\n",
    "pickle.load(file)\n",
    "pickle.load(file)"
   ]
  },
  {
   "cell_type": "code",
   "execution_count": null,
   "metadata": {},
   "outputs": [],
   "source": [
    "# 赋值\n",
    "str = 'abcd'\n",
    "a, *b, c = str  # 扩展序列解包\n",
    "print(a, b, c)"
   ]
  }
 ]
}