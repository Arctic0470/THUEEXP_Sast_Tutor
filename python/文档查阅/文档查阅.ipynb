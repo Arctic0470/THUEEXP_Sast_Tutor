{
 "metadata": {
  "language_info": {
   "codemirror_mode": {
    "name": "ipython",
    "version": 3
   },
   "file_extension": ".py",
   "mimetype": "text/x-python",
   "name": "python",
   "nbconvert_exporter": "python",
   "pygments_lexer": "ipython3",
   "version": "3.8.8"
  },
  "orig_nbformat": 4,
  "kernelspec": {
   "name": "python3",
   "display_name": "Python 3.8.8 64-bit ('base': conda)"
  },
  "interpreter": {
   "hash": "cd8ac7ed5329ff1f59a8356dfddf06d159cf18414acbfd7b13d1d5cd1cbb5d7d"
  }
 },
 "nbformat": 4,
 "nbformat_minor": 2,
 "cells": [
  {
   "source": [
    "# 文档查阅"
   ],
   "cell_type": "markdown",
   "metadata": {}
  },
  {
   "source": [
    "一、使用dir函数进行查找\n",
    "- 用于抓取对象内所有可用属性列表\n",
    "- 若不向dir内传入参数，则可以列出调用者作用域内的变量\n",
    "- 参数可以是任何有属性的对象"
   ],
   "cell_type": "markdown",
   "metadata": {}
  },
  {
   "cell_type": "code",
   "execution_count": null,
   "metadata": {},
   "outputs": [],
   "source": [
    "# 举例：dir参数为模块sys\n",
    "import sys\n",
    "dir(sys)"
   ]
  },
  {
   "cell_type": "code",
   "execution_count": null,
   "metadata": {},
   "outputs": [],
   "source": [
    "# 正常情况下，我们不需要用到带___/_的属性，因此可以使用列表推导将它们过滤掉\n",
    "[x for x in dir(sys) if not x.startswith('__') and not x.startswith('_')]"
   ]
  },
  {
   "cell_type": "code",
   "execution_count": null,
   "metadata": {},
   "outputs": [],
   "source": [
    "# 举例：dir参数为内置对象list\n",
    "dir([])"
   ]
  },
  {
   "cell_type": "code",
   "execution_count": null,
   "metadata": {},
   "outputs": [],
   "source": [
    "# 正常情况下，我们不需要用到带___/_的属性，因此可以使用列表推导将它们过滤掉\n",
    "[x for x in dir([]) if not x.startswith('__') and not x.startswith('_')]"
   ]
  },
  {
   "source": [
    "二、文档字符串\n",
    "- 放在模块文件、函数及类语句的顶部\n",
    "- 位于任何可执行代码之前\n",
    "- python自动装载文档字符串，使其成为对象的\\_\\_doc\\_\\_属性"
   ],
   "cell_type": "markdown",
   "metadata": {}
  },
  {
   "cell_type": "code",
   "execution_count": null,
   "metadata": {},
   "outputs": [],
   "source": [
    "# 举例：myfile.py中的文档字符串\n",
    "import myfile\n",
    "print(myfile.__doc__)   # 文档字符串放在模块内所有可执行程序之前\n",
    "print(myfile.square.__doc__)    # 文档字符串放在函数顶部\n",
    "print(myfile.Student.__doc__)   # 文档字符串放在类顶部"
   ]
  },
  {
   "cell_type": "code",
   "execution_count": null,
   "metadata": {},
   "outputs": [],
   "source": [
    "# 举例：使用文档字符串来理解sys模块中的函数\n",
    "import sys\n",
    "print(sys.path.__doc__)"
   ]
  },
  {
   "cell_type": "code",
   "execution_count": null,
   "metadata": {},
   "outputs": [],
   "source": [
    "# 举例：使用文档字符串来理解内置函数map\n",
    "print(map.__doc__)"
   ]
  },
  {
   "cell_type": "code",
   "execution_count": null,
   "metadata": {},
   "outputs": [],
   "source": [
    "# 更好地显示文档字符串：help函数\n",
    "help(sys)"
   ]
  }
 ]
}