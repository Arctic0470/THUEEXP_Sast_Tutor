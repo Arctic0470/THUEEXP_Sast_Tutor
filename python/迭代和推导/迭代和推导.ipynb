{
 "cells": [
  {
   "cell_type": "markdown",
   "metadata": {},
   "source": [
    "# 迭代与推导"
   ]
  },
  {
   "cell_type": "markdown",
   "metadata": {},
   "source": [
    "## 一、迭代协议：\n",
    "- 可迭代对象(iterable)：\n",
    "    - 迭代的被调对象，有\\_\\_iter\\_\\_方法，被iter函数调用\n",
    "    - iter(iterable)的返回结果是迭代器对象\n",
    "    - list, map, zip, range, dict, 文件, 生成器……\n",
    "- 迭代器对象(iterator)：\n",
    "    - 可迭代对象的返回结果，有\\_\\_next\\_\\_方法，被next函数调用\n",
    "    - next(iterator)即可逐次返回迭代值\n",
    "    - map, zip, 生成器, 文件……（许多既是迭代器对象，又是可迭代对象）\n"
   ]
  },
  {
   "cell_type": "markdown",
   "metadata": {},
   "source": [
    "下面通过几个例子来区分可迭代对象和迭代器对象："
   ]
  },
  {
   "cell_type": "code",
   "execution_count": 1,
   "metadata": {},
   "outputs": [
    {
     "name": "stdout",
     "output_type": "stream",
     "text": [
      "False\n"
     ]
    },
    {
     "ename": "TypeError",
     "evalue": "'list' object is not an iterator",
     "output_type": "error",
     "traceback": [
      "\u001b[1;31m---------------------------------------------------------------------------\u001b[0m",
      "\u001b[1;31mTypeError\u001b[0m                                 Traceback (most recent call last)",
      "\u001b[1;32m<ipython-input-1-b24814ff1304>\u001b[0m in \u001b[0;36m<module>\u001b[1;34m\u001b[0m\n\u001b[0;32m      2\u001b[0m \u001b[0mL\u001b[0m \u001b[1;33m=\u001b[0m \u001b[1;33m[\u001b[0m\u001b[1;36m1\u001b[0m\u001b[1;33m,\u001b[0m \u001b[1;36m2\u001b[0m\u001b[1;33m,\u001b[0m \u001b[1;36m3\u001b[0m\u001b[1;33m]\u001b[0m\u001b[1;33m\u001b[0m\u001b[1;33m\u001b[0m\u001b[0m\n\u001b[0;32m      3\u001b[0m \u001b[0mprint\u001b[0m\u001b[1;33m(\u001b[0m\u001b[0miter\u001b[0m\u001b[1;33m(\u001b[0m\u001b[0mL\u001b[0m\u001b[1;33m)\u001b[0m \u001b[1;32mis\u001b[0m \u001b[0mL\u001b[0m\u001b[1;33m)\u001b[0m\u001b[1;33m\u001b[0m\u001b[1;33m\u001b[0m\u001b[0m\n\u001b[1;32m----> 4\u001b[1;33m \u001b[0mnext\u001b[0m\u001b[1;33m(\u001b[0m\u001b[0mL\u001b[0m\u001b[1;33m)\u001b[0m \u001b[1;31m# 报错，因为list不是迭代器对象，而是可迭代对象，需要用iter()来返回一个迭代器对象\u001b[0m\u001b[1;33m\u001b[0m\u001b[1;33m\u001b[0m\u001b[0m\n\u001b[0m",
      "\u001b[1;31mTypeError\u001b[0m: 'list' object is not an iterator"
     ]
    }
   ],
   "source": [
    "# 举例：列表只是可迭代对象，不是迭代器对象\n",
    "L = [1, 2, 3]\n",
    "print(iter(L) is L)\n",
    "next(L) # 报错，因为list不是迭代器对象，而是可迭代对象，需要用iter()来返回一个迭代器对象"
   ]
  },
  {
   "cell_type": "code",
   "execution_count": 2,
   "metadata": {},
   "outputs": [
    {
     "data": {
      "text/plain": [
       "1"
      ]
     },
     "execution_count": 2,
     "metadata": {},
     "output_type": "execute_result"
    }
   ],
   "source": [
    "I_L = iter(L)\n",
    "next(I_L) # 正确"
   ]
  },
  {
   "cell_type": "code",
   "execution_count": 3,
   "metadata": {},
   "outputs": [
    {
     "name": "stdout",
     "output_type": "stream",
     "text": [
      "True\n",
      "1, 2, 3\n",
      "\n",
      "[1, 2, 3]\n",
      "\n",
      "{'a': 1, 'b': 2, 'c': 3}\n",
      "\n"
     ]
    },
    {
     "ename": "StopIteration",
     "evalue": "",
     "output_type": "error",
     "traceback": [
      "\u001b[1;31m---------------------------------------------------------------------------\u001b[0m",
      "\u001b[1;31mStopIteration\u001b[0m                             Traceback (most recent call last)",
      "\u001b[1;32m<ipython-input-3-ae9444e3f8c6>\u001b[0m in \u001b[0;36m<module>\u001b[1;34m\u001b[0m\n\u001b[0;32m      5\u001b[0m \u001b[0mprint\u001b[0m\u001b[1;33m(\u001b[0m\u001b[0mnext\u001b[0m\u001b[1;33m(\u001b[0m\u001b[0mfile\u001b[0m\u001b[1;33m)\u001b[0m\u001b[1;33m)\u001b[0m\u001b[1;33m\u001b[0m\u001b[1;33m\u001b[0m\u001b[0m\n\u001b[0;32m      6\u001b[0m \u001b[0mprint\u001b[0m\u001b[1;33m(\u001b[0m\u001b[0mnext\u001b[0m\u001b[1;33m(\u001b[0m\u001b[0mfile\u001b[0m\u001b[1;33m)\u001b[0m\u001b[1;33m)\u001b[0m\u001b[1;33m\u001b[0m\u001b[1;33m\u001b[0m\u001b[0m\n\u001b[1;32m----> 7\u001b[1;33m \u001b[0mprint\u001b[0m\u001b[1;33m(\u001b[0m\u001b[0mnext\u001b[0m\u001b[1;33m(\u001b[0m\u001b[0mfile\u001b[0m\u001b[1;33m)\u001b[0m\u001b[1;33m)\u001b[0m   \u001b[1;31m# 迭代至末尾，会抛出StopIteration异常\u001b[0m\u001b[1;33m\u001b[0m\u001b[1;33m\u001b[0m\u001b[0m\n\u001b[0m",
      "\u001b[1;31mStopIteration\u001b[0m: "
     ]
    }
   ],
   "source": [
    "# 举例：文件既是可迭代对象，又是迭代器对象\n",
    "file = open('data.txt')\n",
    "print(iter(file) is file) # 确认文件的“双重身份”\n",
    "print(next(file))\n",
    "print(next(file))\n",
    "print(next(file))\n",
    "print(next(file))   # 迭代至末尾，会抛出StopIteration异常"
   ]
  },
  {
   "cell_type": "code",
   "execution_count": 6,
   "metadata": {},
   "outputs": [
    {
     "name": "stdout",
     "output_type": "stream",
     "text": [
      "False\n",
      "0\n"
     ]
    }
   ],
   "source": [
    "\n",
    "# 举例：range函数\n",
    "r = range(5)\n",
    "print(iter(r) is r) # range产生的是可迭代对象，而不是迭代器对象\n",
    "I_r = iter(r)\n",
    "print(next(I_r))"
   ]
  },
  {
   "cell_type": "code",
   "execution_count": 7,
   "metadata": {},
   "outputs": [
    {
     "name": "stdout",
     "output_type": "stream",
     "text": [
      "True\n",
      "(0, 'a')\n",
      "(1, 'b')\n"
     ]
    }
   ],
   "source": [
    "# 举例：enumerate函数\n",
    "e = enumerate('abcdef')\n",
    "print(iter(e) is e) # enumerate产生的是可迭代对象，而不是迭代器对象\n",
    "print(next(e))\n",
    "print(next(e))"
   ]
  },
  {
   "cell_type": "markdown",
   "metadata": {},
   "source": [
    "然而，在实际应用中，以for循环为代表的自动迭代可以自动生成迭代器对象，这极大地减轻了我们的负担："
   ]
  },
  {
   "cell_type": "code",
   "execution_count": null,
   "metadata": {},
   "outputs": [],
   "source": [
    "# 举例：列表，range的自动迭代\n",
    "L = [1, 2, 3, 4]\n",
    "for x in L: # L作为可迭代对象，在自动迭代（此处由for触发）中自动生成迭代器对象\n",
    "    print(x)\n",
    "print('\\n')\n",
    "for x in range(4):\n",
    "    print(x) # range(4)作为可迭代对象，在自动迭代（此处由for触发）中自动生成迭代器对象 "
   ]
  },
  {
   "cell_type": "markdown",
   "metadata": {},
   "source": [
    "在python中，字典是比较特殊的可迭代对象：\r\n",
    "- 其自身可生成返回keys的可迭代对象\r\n",
    "- 其keys, values, items方法均返回可迭代对象\r\n",
    "- 但以上四者都不是迭代器"
   ]
  },
  {
   "cell_type": "code",
   "execution_count": 8,
   "metadata": {},
   "outputs": [
    {
     "name": "stdout",
     "output_type": "stream",
     "text": [
      "False\n",
      "\n",
      "自身： {'a': 1, 'b': 2, 'c': 3}\n",
      "迭代自身： ['a', 'b']\n",
      "\n",
      "键： dict_keys(['a', 'b', 'c'])\n",
      "迭代键： ['a', 'b']\n",
      "\n",
      "值： dict_values([1, 2, 3])\n",
      "迭代值： [1, 2]\n",
      "\n",
      "项： dict_items([('a', 1), ('b', 2), ('c', 3)])\n",
      "迭代项： [('a', 1), ('b', 2)]\n"
     ]
    }
   ],
   "source": [
    "d = dict(a=1, b=2, c=3)\r\n",
    "print(iter(d) is d) # 字典只是可迭代对象，不是迭代器对象\r\n",
    "I_self = iter(d)    # 仅以自身作为可迭代对象，生成的是返回keys的迭代器\r\n",
    "print('\\n自身：', d)\r\n",
    "print('迭代自身：', [next(I_self), next(I_self)])   \r\n",
    "I_keys = iter(d.keys()) # 仅以dict_keys作为可迭代对象\r\n",
    "print('\\n键：', d.keys())\r\n",
    "print('迭代键：', [next(I_keys), next(I_keys)])   \r\n",
    "I_values = iter(d.values()) # 仅以dict_values作为可迭代对象\r\n",
    "print('\\n值：', d.values())\r\n",
    "print('迭代值：', [next(I_values), next(I_values)]) \r\n",
    "I_items = iter(d.items()) # 仅以dict_items作为可迭代对象\r\n",
    "print('\\n项：', d.items())\r\n",
    "print('迭代项：', [next(I_items), next(I_items)])   \r\n"
   ]
  },
  {
   "cell_type": "markdown",
   "metadata": {},
   "source": [
    "实际上，python中有无数的内置函数或对象方法是以可迭代对象作为参数的，下面仅是冰山一角，但足可以体现迭代协议在python中的广泛应用："
   ]
  },
  {
   "cell_type": "code",
   "execution_count": null,
   "metadata": {},
   "outputs": [],
   "source": [
    "# 举例：部分接纳可迭代对象的工具\n",
    "# zip内置函数：接纳两个可迭代对象，返回可迭代对象\n",
    "z = zip(open('data.txt'), [1, 2, 3])\n",
    "print('\\nzip:') \n",
    "print(z)\n",
    "print(list(z))\n",
    "# map内置函数：接纳一个函数（可自定义）与一个可迭代对象，返回一个可迭代对象\n",
    "m = map(str.upper, open('data.txt'))    # 在这里，map接纳了python内置类型字符串(str)的方法upper作为第一个参数\n",
    "print('\\nmap:')\n",
    "print(m)\n",
    "print(list(m))\n",
    "# sorted内置函数：返回排序后的列表\n",
    "print('\\nsorted:')\n",
    "print(sorted(open('data.txt')))\n",
    "# 内置类型字符串(str)中的join方法：返回拼接后的字符串\n",
    "print('\\nstr.join:')\n",
    "print('......'.join(open('data.txt')))  # print之后会有换行，这是因为原字符串中有\\n"
   ]
  },
  {
   "cell_type": "markdown",
   "metadata": {},
   "source": [
    "不同内置函数迭代器的差别：是否支持在一个可迭代对象上建立多个“独立”的迭代器（即迭代器对象）\n",
    "- range：支持\n",
    "- map, zip, filter等：不支持\n",
    "    - 对于只有单个迭代器的情形，一般意味着对象的迭代器就是其自身（即既是可迭代对象，又是迭代器对象）\n",
    "\n",
    "请看以下例子："
   ]
  },
  {
   "cell_type": "code",
   "execution_count": null,
   "metadata": {},
   "outputs": [],
   "source": [
    "# range：支持多个迭代器\n",
    "r = range(10)\n",
    "I1 = iter(r)\n",
    "I2 = iter(r)\n",
    "[next(I1), next(I1), next(I1), next(I1)]    # 迭代I1\n",
    "print('I1迭代至：',next(I1)) # I1已经迭代到比较后面\n",
    "print('I2迭代至：',next(I2)) # I2还在初始位置"
   ]
  },
  {
   "cell_type": "code",
   "execution_count": null,
   "metadata": {},
   "outputs": [],
   "source": [
    "# map：不支持多个迭代器\n",
    "m = map(abs, [-i for i in range(10)])\n",
    "I1 = iter(m)\n",
    "I2 = iter(m)\n",
    "[next(I1), next(I1), next(I1), next(I1)]    # 迭代I1\n",
    "print('I1迭代至：',next(I1)) # I1迭代到比较后面\n",
    "print('I2迭代至：',next(I2)) # I2不是停留在初始位置，而是与I1同步！\n",
    "print(I1 is I2) # 显示为真：只有一个迭代器"
   ]
  },
  {
   "cell_type": "markdown",
   "metadata": {},
   "source": [
    "## 二、推导\n",
    "- 最主要的迭代协议上下文之一\n",
    "- 较for循环，速度更快，推荐使用"
   ]
  },
  {
   "cell_type": "code",
   "execution_count": null,
   "metadata": {},
   "outputs": [],
   "source": [
    "# 举例：最简单的列表推导\n",
    "L = [1, 2, 3, 4, 5]\n",
    "print([x**2 for x in L])\n",
    "print(([x**2 for x in L if x % 2])  # 添加筛选分句if"
   ]
  },
  {
   "cell_type": "code",
   "execution_count": null,
   "metadata": {},
   "outputs": [],
   "source": [
    "# 举例：文件中的列表推导\n",
    "print([line for line in open('data.txt')])  \n",
    "print([line.rstrip() for line in open('data.txt')]) # 可以在推导式中，对迭代结果进行进一步加工"
   ]
  },
  {
   "cell_type": "code",
   "execution_count": null,
   "metadata": {},
   "outputs": [],
   "source": []
  }
 ],
 "metadata": {
  "interpreter": {
   "hash": "cd8ac7ed5329ff1f59a8356dfddf06d159cf18414acbfd7b13d1d5cd1cbb5d7d"
  },
  "kernelspec": {
   "display_name": "Python 3.8.8 64-bit ('base': conda)",
   "name": "python3"
  },
  "language_info": {
   "codemirror_mode": {
    "name": "ipython",
    "version": 3
   },
   "file_extension": ".py",
   "mimetype": "text/x-python",
   "name": "python",
   "nbconvert_exporter": "python",
   "pygments_lexer": "ipython3",
   "version": "3.8.8"
  },
  "orig_nbformat": 4
 },
 "nbformat": 4,
 "nbformat_minor": 2
}