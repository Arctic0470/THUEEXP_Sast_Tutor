{
 "cells": [
  {
   "cell_type": "markdown",
   "source": [
    "# 迭代与推导"
   ],
   "metadata": {}
  },
  {
   "cell_type": "markdown",
   "source": [
    "## 一、迭代协议：\r\n",
    "- 可迭代对象(iterable)：\r\n",
    "    - 迭代的被调对象，有\\_\\_iter\\_\\_方法，被iter函数调用\r\n",
    "    - iter(iterable)的返回结果是迭代器对象\r\n",
    "    - list, map, zip, range, dict, 文件, 生成器……\r\n",
    "- 迭代器对象(iterator)：\r\n",
    "    - 可迭代对象的返回结果，有\\_\\_next\\_\\_方法，被next函数调用\r\n",
    "    - next(iterator)即可逐次返回迭代值\r\n",
    "    - map, zip, 生成器, 文件……（许多既是迭代器对象，又是可迭代对象）\r\n"
   ],
   "metadata": {}
  },
  {
   "cell_type": "markdown",
   "source": [
    "下面通过几个例子来区分可迭代对象和迭代器对象："
   ],
   "metadata": {}
  },
  {
   "cell_type": "code",
   "execution_count": null,
   "source": [
    "# 举例：列表只是可迭代对象，不是迭代器对象\r\n",
    "L = [1, 2, 3]\r\n",
    "print(iter(L) is L)\r\n",
    "next(L) # 报错，因为list不是迭代器对象，而是可迭代对象，需要用iter()来返回一个迭代器对象"
   ],
   "outputs": [],
   "metadata": {}
  },
  {
   "cell_type": "code",
   "execution_count": null,
   "source": [
    "I_L = iter(L)\r\n",
    "next(I_L) # 正确"
   ],
   "outputs": [],
   "metadata": {}
  },
  {
   "cell_type": "code",
   "execution_count": null,
   "source": [
    "# 举例：文件既是可迭代对象，又是迭代器对象\r\n",
    "file = open('data.txt')\r\n",
    "print(iter(file) is file) # 确认文件的“双重身份”\r\n",
    "print(next(file))\r\n",
    "print(next(file))\r\n",
    "print(next(file))\r\n",
    "print(next(file))   # 迭代至末尾，会抛出StopIteration异常"
   ],
   "outputs": [],
   "metadata": {}
  },
  {
   "cell_type": "code",
   "execution_count": null,
   "source": [
    "\r\n",
    "# 举例：range函数\r\n",
    "r = range(5)\r\n",
    "print(iter(r) is r) # range产生的是可迭代对象，而不是迭代器对象\r\n",
    "I_r = iter(r)\r\n",
    "print(next(I_r))"
   ],
   "outputs": [],
   "metadata": {}
  },
  {
   "cell_type": "code",
   "execution_count": null,
   "source": [
    "# 举例：enumerate函数\r\n",
    "e = enumerate('abcdef')\r\n",
    "print(iter(e) is e) # enumerate产生的是可迭代对象，而不是迭代器对象\r\n",
    "print(next(e))\r\n",
    "print(next(e))"
   ],
   "outputs": [],
   "metadata": {}
  },
  {
   "cell_type": "markdown",
   "source": [
    "然而，在实际应用中，以for循环为代表的自动迭代可以自动生成迭代器对象，这极大地减轻了我们的负担："
   ],
   "metadata": {}
  },
  {
   "cell_type": "code",
   "execution_count": null,
   "source": [
    "# 举例：列表，range的自动迭代\r\n",
    "L = [1, 2, 3, 4]\r\n",
    "for x in L: # L作为可迭代对象，在自动迭代（此处由for触发）中自动生成迭代器对象\r\n",
    "    print(x)\r\n",
    "print('\\n')\r\n",
    "for x in range(4):\r\n",
    "    print(x) # range(4)作为可迭代对象，在自动迭代（此处由for触发）中自动生成迭代器对象 "
   ],
   "outputs": [],
   "metadata": {}
  },
  {
   "cell_type": "markdown",
   "source": [
    "在python中，字典是比较特殊的可迭代对象：\r\n",
    "- 其自身可生成返回keys的可迭代对象\r\n",
    "- 其keys, values, items方法均返回可迭代对象\r\n",
    "- 但以上四者都不是迭代器"
   ],
   "metadata": {}
  },
  {
   "cell_type": "code",
   "execution_count": null,
   "source": [
    "d = dict(a=1, b=2, c=3)\r\n",
    "print(iter(d) is d) # 字典只是可迭代对象，不是迭代器对象\r\n",
    "I_self = iter(d)    # 仅以自身作为可迭代对象，生成的是返回keys的迭代器\r\n",
    "print('\\n自身：', d)\r\n",
    "print('迭代自身：', [next(I_self), next(I_self)])   \r\n",
    "I_keys = iter(d.keys()) # 仅以dict_keys作为可迭代对象\r\n",
    "print('\\n键：', d.keys())\r\n",
    "print('迭代键：', [next(I_keys), next(I_keys)])   \r\n",
    "I_values = iter(d.values()) # 仅以dict_values作为可迭代对象\r\n",
    "print('\\n值：', d.values())\r\n",
    "print('迭代值：', [next(I_values), next(I_values)]) \r\n",
    "I_items = iter(d.items()) # 仅以dict_items作为可迭代对象\r\n",
    "print('\\n项：', d.items())\r\n",
    "print('迭代项：', [next(I_items), next(I_items)])   \r\n"
   ],
   "outputs": [],
   "metadata": {}
  },
  {
   "cell_type": "markdown",
   "source": [
    "实际上，python中有无数的内置函数或对象方法是以可迭代对象作为参数的，下面仅是冰山一角，但足可以体现迭代协议在python中的广泛应用："
   ],
   "metadata": {}
  },
  {
   "cell_type": "code",
   "execution_count": null,
   "source": [
    "# 举例：部分接纳可迭代对象的工具\n",
    "# zip内置函数：接纳两个可迭代对象，返回可迭代对象\n",
    "z = zip(open('data.txt'), [1, 2, 3])\n",
    "print('\\nzip:') \n",
    "print(z)\n",
    "print(list(z))\n",
    "# map内置函数：接纳一个函数（可自定义）与一个可迭代对象，返回一个可迭代对象\n",
    "m = map(str.upper, open('data.txt'))    # 在这里，map接纳了python内置类型字符串(str)的方法upper作为第一个参数\n",
    "print('\\nmap:')\n",
    "print(m)\n",
    "print(list(m))\n",
    "# sorted内置函数：返回排序后的列表\n",
    "print('\\nsorted:')\n",
    "print(sorted(open('data.txt')))\n",
    "# 内置类型字符串(str)中的join方法：返回拼接后的字符串\n",
    "print('\\nstr.join:')\n",
    "print('......'.join(open('data.txt')))  # print之后会有换行，这是因为原字符串中有\\n"
   ],
   "outputs": [],
   "metadata": {}
  },
  {
   "cell_type": "markdown",
   "source": [
    "不同内置函数迭代器的差别：是否支持在一个可迭代对象上建立多个“独立”的迭代器（即迭代器对象）\n",
    "- range：支持\n",
    "- map, zip, filter等：不支持\n",
    "    - 对于只有单个迭代器的情形，一般意味着对象的迭代器就是其自身（即既是可迭代对象，又是迭代器对象）\n",
    "\n",
    "请看以下例子："
   ],
   "metadata": {}
  },
  {
   "cell_type": "code",
   "execution_count": null,
   "source": [
    "# range：支持多个迭代器\n",
    "r = range(10)\n",
    "I1 = iter(r)\n",
    "I2 = iter(r)\n",
    "[next(I1), next(I1), next(I1), next(I1)]    # 迭代I1\n",
    "print('I1迭代至：',next(I1)) # I1已经迭代到比较后面\n",
    "print('I2迭代至：',next(I2)) # I2还在初始位置"
   ],
   "outputs": [],
   "metadata": {}
  },
  {
   "cell_type": "code",
   "execution_count": null,
   "source": [
    "# map：不支持多个迭代器\n",
    "m = map(abs, [-i for i in range(10)])\n",
    "I1 = iter(m)\n",
    "I2 = iter(m)\n",
    "[next(I1), next(I1), next(I1), next(I1)]    # 迭代I1\n",
    "print('I1迭代至：',next(I1)) # I1迭代到比较后面\n",
    "print('I2迭代至：',next(I2)) # I2不是停留在初始位置，而是与I1同步！\n",
    "print(I1 is I2) # 显示为真：只有一个迭代器"
   ],
   "outputs": [],
   "metadata": {}
  },
  {
   "cell_type": "markdown",
   "source": [
    "## 二、推导\n",
    "- 最主要的迭代协议上下文之一\n",
    "- 较for循环，速度更快，推荐使用"
   ],
   "metadata": {}
  },
  {
   "cell_type": "code",
   "execution_count": null,
   "source": [
    "# 举例：最简单的列表推导\n",
    "L = [1, 2, 3, 4, 5]\n",
    "print([x**2 for x in L])\n",
    "print(([x**2 for x in L if x % 2])  # 添加筛选分句if"
   ],
   "outputs": [],
   "metadata": {}
  },
  {
   "cell_type": "code",
   "execution_count": null,
   "source": [
    "# 举例：文件中的列表推导\n",
    "print([line for line in open('data.txt')])  \n",
    "print([line.rstrip() for line in open('data.txt')]) # 可以在推导式中，对迭代结果进行进一步加工"
   ],
   "outputs": [],
   "metadata": {}
  },
  {
   "cell_type": "code",
   "execution_count": null,
   "source": [],
   "outputs": [],
   "metadata": {}
  }
 ],
 "metadata": {
  "interpreter": {
   "hash": "cd8ac7ed5329ff1f59a8356dfddf06d159cf18414acbfd7b13d1d5cd1cbb5d7d"
  },
  "kernelspec": {
   "display_name": "Python 3.8.8 64-bit ('base': conda)",
   "name": "python3"
  },
  "language_info": {
   "codemirror_mode": {
    "name": "ipython",
    "version": 3
   },
   "file_extension": ".py",
   "mimetype": "text/x-python",
   "name": "python",
   "nbconvert_exporter": "python",
   "pygments_lexer": "ipython3",
   "version": "3.8.8"
  },
  "orig_nbformat": 4
 },
 "nbformat": 4,
 "nbformat_minor": 2
}